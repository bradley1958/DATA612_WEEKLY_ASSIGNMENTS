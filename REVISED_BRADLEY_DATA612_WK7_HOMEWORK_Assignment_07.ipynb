{
  "nbformat": 4,
  "nbformat_minor": 0,
  "metadata": {
    "colab": {
      "name": "REVISED_BRADLEY_DATA612_WK7_HOMEWORK_Assignment_07.ipynb",
      "provenance": [],
      "collapsed_sections": []
    },
    "kernelspec": {
      "name": "python3",
      "display_name": "Python 3"
    }
  },
  "cells": [
    {
      "cell_type": "markdown",
      "metadata": {
        "id": "XBfg9Dn0oX11",
        "colab_type": "text"
      },
      "source": [
        "# Assignment for Week 7"
      ]
    },
    {
      "cell_type": "markdown",
      "metadata": {
        "id": "JfzdDSEJojQk",
        "colab_type": "text"
      },
      "source": [
        "## Purpose          \n",
        "This assignment is intended to help you do the following:      \n",
        "  - Groupby operations to aggregate, transform, and filter data      \n",
        "  - Built-in and custom user functions to perform groupby operations\n"
      ]
    },
    {
      "cell_type": "markdown",
      "metadata": {
        "id": "nYkSucbCm84C",
        "colab_type": "text"
      },
      "source": [
        "## About the assignment\n",
        "\n",
        "The function 'get_data_table' takes 4 parameters, df, date_col, group_col, type_x.      \n",
        "  - The 'df' represents the dataframe.      \n",
        "  -The 'date_col' represents the date column.      \n",
        "  -The group_col represents the column to groupby and        \n",
        "  -The 'type_x' represents the column with a specific value/category == 'type_x'. "
      ]
    },
    {
      "cell_type": "code",
      "metadata": {
        "id": "ZwdNwWNwoebk",
        "colab_type": "code",
        "colab": {}
      },
      "source": [
        "def get_data_table(df, date_col, group_col, type_x):\n",
        "    df_gross = (df.loc[(df.type == type_x) &\n",
        "                                      df.category.isin(['category_x', 'category_xy', 'category_xyz'])\n",
        "                                     ]\n",
        "                         .groupby([group_col, date_col]).sum()\n",
        "                         .unstack(date_col)['amount'].fillna(0)\n",
        "                         .resample('M', axis=1).sum()\n",
        "                        )\n",
        "\n",
        "    df_recovered = (df.loc[(df.type == type_x) &\n",
        "                                  df.category.isin(['category_01', 'category_05', 'category_07'])\n",
        "                                 ]\n",
        "                    .groupby([group_col, date_col]).sum()\n",
        "                    .unstack(date_col)['amount'].fillna(0)\n",
        "                    .resample('M', axis=1).sum()\n",
        "                    )\n",
        "\n",
        "    return df_gross.add(df_recovered * -1, fill_value=0)\n",
        "    "
      ],
      "execution_count": null,
      "outputs": []
    },
    {
      "cell_type": "markdown",
      "metadata": {
        "id": "3Z3KIPaWtEXv",
        "colab_type": "text"
      },
      "source": [
        "## Tasks   \n",
        "  1. Read the function above and in a 1-3 paragraphs explain its purpose    \n",
        "\n",
        "  2. Apply the function to your selected dataframe and modify as needed based on your preferences.    \n",
        "\n",
        "  3. Write 1-3 paragraphs to explain the differences or challenges when you applied the function to your chosen dataframe.\n",
        "\n",
        "  4. Post your version of the above code on your GitHub account. Do not forget a README file with explanations.\n",
        "\n",
        "\n"
      ]
    },
    {
      "cell_type": "markdown",
      "metadata": {
        "id": "hnLIcsoSLVxH",
        "colab_type": "text"
      },
      "source": [
        "**Action Item 1 - Expalin the initial function above.**\n",
        "\n",
        "In pandas \"def\" is used to create a user defined function. In this case \"get_data_table\" is our function. \n",
        "\n",
        "It has four parameters; df, date_col, group_col, and type_x.\n",
        "\n",
        "The syntax \"df_gross = (df.loc[(df.type == type x) & df.category.isin(['category_x', 'category_xy', 'category_xyz'])]\" comes across with the following meaning to me:\n",
        "\n",
        "This part of the syntx is taking a defined location \"df.loc\" (selection by index) and pulling out \"type_x\" from the category's  \"df.category.isin\" from category_x, category_xy, and category_xyz, then we are grouping (.groupby) that output by \"group_col, \"date_col, and then summing it \".sum()\". The \".unstack\" syntax unpacks those summed values from the groupby command and places them into a column called \"amount\" and the \".fillna(0)\" syntax fills all the missing values with a \"zero\".\n",
        "\n",
        "Next, the \".resample\" syntx is a method for resampling of a \"time series\". The \"M\" deals with which side of the bin interval is closed, \"M\" denotes the right side. The axis value of 1 denotes output in \"column\" format, and the \".sum()\" syntax indicates again that the column output is to be \"summed\" (totaled). \n",
        "\n",
        "The \"df_recovered\" dataframe is basically a repeat of the \"df_gross\" function except the index has changed and the column headings being used are now \"category_01, category_05, and category_07\". The \".groupby.sum()\", the \".unstack(date_col)['amount'].fillna(0)\", and the \".resample('M', axis=1).sum()\" syntax all repeat their respective functions again from the initial function from above.\n",
        "\n",
        "Finally, the syntax \"return df_gross.add(df_recovered * -1, fill_value=0) takes the output of \"df_gross\" and adds the output of \"df_recoverd\" to it (combines them into one dataframe) the \"fill_value=0\" places a \"zero\" in for all missing values that may be present in the combined dataframe.\n",
        "\n",
        "\n"
      ]
    },
    {
      "cell_type": "markdown",
      "metadata": {
        "id": "biBnaP7wP8Wo",
        "colab_type": "text"
      },
      "source": [
        "**Action Item 2 - Apply the above function to your selected datafame. Modifying the function to fit your selected dataframe.**"
      ]
    },
    {
      "cell_type": "code",
      "metadata": {
        "id": "7TGoGvLrQdjs",
        "colab_type": "code",
        "colab": {
          "base_uri": "https://localhost:8080/",
          "height": 264
        },
        "outputId": "46a8f99e-8495-46fb-bbb7-aae918b00fad"
      },
      "source": [
        "import pandas as pd\n",
        "import numpy as np\n",
        "import seaborn as sns\n",
        "import re\n",
        "import pandas.util.testing as tm\n",
        "from pandas.util.testing import assert_frame_equal\n",
        "drugdata = pd.read_csv('https://raw.githubusercontent.com/frankDATA612/data_612/master/State_Drug_Utilization_Data_2010/State_Drug_Utilization_Data_2010.csv')\n",
        "\n",
        "drugdata.head(3)\n",
        "\n"
      ],
      "execution_count": null,
      "outputs": [
        {
          "output_type": "execute_result",
          "data": {
            "text/html": [
              "<div>\n",
              "<style scoped>\n",
              "    .dataframe tbody tr th:only-of-type {\n",
              "        vertical-align: middle;\n",
              "    }\n",
              "\n",
              "    .dataframe tbody tr th {\n",
              "        vertical-align: top;\n",
              "    }\n",
              "\n",
              "    .dataframe thead th {\n",
              "        text-align: right;\n",
              "    }\n",
              "</style>\n",
              "<table border=\"1\" class=\"dataframe\">\n",
              "  <thead>\n",
              "    <tr style=\"text-align: right;\">\n",
              "      <th></th>\n",
              "      <th>Unnamed: 0</th>\n",
              "      <th>Utilization Type</th>\n",
              "      <th>State</th>\n",
              "      <th>Labeler Code</th>\n",
              "      <th>Product Code</th>\n",
              "      <th>Package Size</th>\n",
              "      <th>Year</th>\n",
              "      <th>Quarter</th>\n",
              "      <th>Product Name</th>\n",
              "      <th>Units Reimbursed</th>\n",
              "      <th>Suppression Used</th>\n",
              "      <th>Number of Prescriptions</th>\n",
              "      <th>Total Amount Reimbursed</th>\n",
              "      <th>Medicaid Amount Reimbursed</th>\n",
              "      <th>Non Medicaid Amount Reimbursed</th>\n",
              "      <th>Quarter Begin</th>\n",
              "      <th>Quarter Begin Date</th>\n",
              "      <th>Latitude</th>\n",
              "      <th>Longitude</th>\n",
              "      <th>Location</th>\n",
              "      <th>NDC</th>\n",
              "    </tr>\n",
              "  </thead>\n",
              "  <tbody>\n",
              "    <tr>\n",
              "      <th>0</th>\n",
              "      <td>128037</td>\n",
              "      <td>MCOU</td>\n",
              "      <td>MA</td>\n",
              "      <td>37205</td>\n",
              "      <td>137</td>\n",
              "      <td>5</td>\n",
              "      <td>2010</td>\n",
              "      <td>4</td>\n",
              "      <td>ARTIFICIAL</td>\n",
              "      <td>15.0</td>\n",
              "      <td>False</td>\n",
              "      <td>1</td>\n",
              "      <td>4.08</td>\n",
              "      <td>4.08</td>\n",
              "      <td>0.0</td>\n",
              "      <td>10/1</td>\n",
              "      <td>10/01/2010</td>\n",
              "      <td>31.1801</td>\n",
              "      <td>-91.8749</td>\n",
              "      <td>(31.1801, -91.8749)</td>\n",
              "      <td>37205013705</td>\n",
              "    </tr>\n",
              "    <tr>\n",
              "      <th>1</th>\n",
              "      <td>491755</td>\n",
              "      <td>FFSU</td>\n",
              "      <td>FL</td>\n",
              "      <td>62756</td>\n",
              "      <td>763</td>\n",
              "      <td>88</td>\n",
              "      <td>2010</td>\n",
              "      <td>1</td>\n",
              "      <td>TORSEMIDE</td>\n",
              "      <td>255.0</td>\n",
              "      <td>False</td>\n",
              "      <td>8</td>\n",
              "      <td>103.33</td>\n",
              "      <td>103.33</td>\n",
              "      <td>0.0</td>\n",
              "      <td>1/1</td>\n",
              "      <td>01/01/2010</td>\n",
              "      <td>39.3498</td>\n",
              "      <td>-75.5148</td>\n",
              "      <td>(39.3498, -75.5148)</td>\n",
              "      <td>62756076388</td>\n",
              "    </tr>\n",
              "    <tr>\n",
              "      <th>2</th>\n",
              "      <td>2568076</td>\n",
              "      <td>FFSU</td>\n",
              "      <td>UT</td>\n",
              "      <td>46987</td>\n",
              "      <td>323</td>\n",
              "      <td>11</td>\n",
              "      <td>2010</td>\n",
              "      <td>2</td>\n",
              "      <td>Kadian Ora</td>\n",
              "      <td>120.0</td>\n",
              "      <td>False</td>\n",
              "      <td>2</td>\n",
              "      <td>905.24</td>\n",
              "      <td>905.24</td>\n",
              "      <td>0.0</td>\n",
              "      <td>4/1</td>\n",
              "      <td>04/01/2010</td>\n",
              "      <td>44.2853</td>\n",
              "      <td>-99.4632</td>\n",
              "      <td>(44.2853, -99.4632)</td>\n",
              "      <td>46987032311</td>\n",
              "    </tr>\n",
              "  </tbody>\n",
              "</table>\n",
              "</div>"
            ],
            "text/plain": [
              "   Unnamed: 0 Utilization Type  ...             Location          NDC\n",
              "0      128037             MCOU  ...  (31.1801, -91.8749)  37205013705\n",
              "1      491755             FFSU  ...  (39.3498, -75.5148)  62756076388\n",
              "2     2568076             FFSU  ...  (44.2853, -99.4632)  46987032311\n",
              "\n",
              "[3 rows x 21 columns]"
            ]
          },
          "metadata": {
            "tags": []
          },
          "execution_count": 38
        }
      ]
    },
    {
      "cell_type": "code",
      "metadata": {
        "id": "vm8-VOF_gwPi",
        "colab_type": "code",
        "colab": {
          "base_uri": "https://localhost:8080/",
          "height": 221
        },
        "outputId": "7878834e-8bf6-4c24-c1cf-f804387c471f"
      },
      "source": [
        "# Let's create a drop list initially so that we are working with a smaller dataframe\n",
        "drop_list =['Unnamed: 0', 'Utilization Type', 'State', 'Labeler Code', 'Product Code', 'Package Size', 'Product Name', 'Units Reimbursed', 'Suppression Used',\n",
        "            'Number of Prescriptions', 'Quarter Begin', 'Quarter Begin Date', 'Latitude', 'Longitude', 'Location', 'NDC']\n",
        "drugdata.drop(drop_list, inplace=True, axis=1)\n",
        "drugdata.head()\n"
      ],
      "execution_count": null,
      "outputs": [
        {
          "output_type": "execute_result",
          "data": {
            "text/html": [
              "<div>\n",
              "<style scoped>\n",
              "    .dataframe tbody tr th:only-of-type {\n",
              "        vertical-align: middle;\n",
              "    }\n",
              "\n",
              "    .dataframe tbody tr th {\n",
              "        vertical-align: top;\n",
              "    }\n",
              "\n",
              "    .dataframe thead th {\n",
              "        text-align: right;\n",
              "    }\n",
              "</style>\n",
              "<table border=\"1\" class=\"dataframe\">\n",
              "  <thead>\n",
              "    <tr style=\"text-align: right;\">\n",
              "      <th></th>\n",
              "      <th>Year</th>\n",
              "      <th>Quarter</th>\n",
              "      <th>Total Amount Reimbursed</th>\n",
              "      <th>Medicaid Amount Reimbursed</th>\n",
              "      <th>Non Medicaid Amount Reimbursed</th>\n",
              "    </tr>\n",
              "  </thead>\n",
              "  <tbody>\n",
              "    <tr>\n",
              "      <th>0</th>\n",
              "      <td>2010</td>\n",
              "      <td>4</td>\n",
              "      <td>4.08</td>\n",
              "      <td>4.08</td>\n",
              "      <td>0.0</td>\n",
              "    </tr>\n",
              "    <tr>\n",
              "      <th>1</th>\n",
              "      <td>2010</td>\n",
              "      <td>1</td>\n",
              "      <td>103.33</td>\n",
              "      <td>103.33</td>\n",
              "      <td>0.0</td>\n",
              "    </tr>\n",
              "    <tr>\n",
              "      <th>2</th>\n",
              "      <td>2010</td>\n",
              "      <td>2</td>\n",
              "      <td>905.24</td>\n",
              "      <td>905.24</td>\n",
              "      <td>0.0</td>\n",
              "    </tr>\n",
              "    <tr>\n",
              "      <th>3</th>\n",
              "      <td>2010</td>\n",
              "      <td>4</td>\n",
              "      <td>312.22</td>\n",
              "      <td>306.22</td>\n",
              "      <td>6.0</td>\n",
              "    </tr>\n",
              "    <tr>\n",
              "      <th>4</th>\n",
              "      <td>2010</td>\n",
              "      <td>2</td>\n",
              "      <td>52.87</td>\n",
              "      <td>52.87</td>\n",
              "      <td>0.0</td>\n",
              "    </tr>\n",
              "  </tbody>\n",
              "</table>\n",
              "</div>"
            ],
            "text/plain": [
              "   Year  Quarter  ...  Medicaid Amount Reimbursed  Non Medicaid Amount Reimbursed\n",
              "0  2010        4  ...                        4.08                             0.0\n",
              "1  2010        1  ...                      103.33                             0.0\n",
              "2  2010        2  ...                      905.24                             0.0\n",
              "3  2010        4  ...                      306.22                             6.0\n",
              "4  2010        2  ...                       52.87                             0.0\n",
              "\n",
              "[5 rows x 5 columns]"
            ]
          },
          "metadata": {
            "tags": []
          },
          "execution_count": 39
        }
      ]
    },
    {
      "cell_type": "markdown",
      "metadata": {
        "id": "KN0zAdQhWkzp",
        "colab_type": "text"
      },
      "source": [
        "Now Let's rename the Medicaid Dollar Amount Columns to TotalAmount, MedAmount and NonMedAmount."
      ]
    },
    {
      "cell_type": "code",
      "metadata": {
        "id": "oIhblGbnWvzn",
        "colab_type": "code",
        "colab": {
          "base_uri": "https://localhost:8080/",
          "height": 204
        },
        "outputId": "e354b4c1-9ba4-4def-8c55-518e2f8b1c26"
      },
      "source": [
        "# Rename the two Medicaid Columns to single word headings:\n",
        "drugdata.rename(columns={'Total Amount Reimbursed':'TotalAmount','Medicaid Amount Reimbursed':'MedAmount','Non Medicaid Amount Reimbursed':'NonMedAmount'}, inplace=True)\n",
        "\n",
        "drugdata.head()"
      ],
      "execution_count": null,
      "outputs": [
        {
          "output_type": "execute_result",
          "data": {
            "text/html": [
              "<div>\n",
              "<style scoped>\n",
              "    .dataframe tbody tr th:only-of-type {\n",
              "        vertical-align: middle;\n",
              "    }\n",
              "\n",
              "    .dataframe tbody tr th {\n",
              "        vertical-align: top;\n",
              "    }\n",
              "\n",
              "    .dataframe thead th {\n",
              "        text-align: right;\n",
              "    }\n",
              "</style>\n",
              "<table border=\"1\" class=\"dataframe\">\n",
              "  <thead>\n",
              "    <tr style=\"text-align: right;\">\n",
              "      <th></th>\n",
              "      <th>Year</th>\n",
              "      <th>Quarter</th>\n",
              "      <th>TotalAmount</th>\n",
              "      <th>MedAmount</th>\n",
              "      <th>NonMedAmount</th>\n",
              "    </tr>\n",
              "  </thead>\n",
              "  <tbody>\n",
              "    <tr>\n",
              "      <th>0</th>\n",
              "      <td>2010</td>\n",
              "      <td>4</td>\n",
              "      <td>4.08</td>\n",
              "      <td>4.08</td>\n",
              "      <td>0.0</td>\n",
              "    </tr>\n",
              "    <tr>\n",
              "      <th>1</th>\n",
              "      <td>2010</td>\n",
              "      <td>1</td>\n",
              "      <td>103.33</td>\n",
              "      <td>103.33</td>\n",
              "      <td>0.0</td>\n",
              "    </tr>\n",
              "    <tr>\n",
              "      <th>2</th>\n",
              "      <td>2010</td>\n",
              "      <td>2</td>\n",
              "      <td>905.24</td>\n",
              "      <td>905.24</td>\n",
              "      <td>0.0</td>\n",
              "    </tr>\n",
              "    <tr>\n",
              "      <th>3</th>\n",
              "      <td>2010</td>\n",
              "      <td>4</td>\n",
              "      <td>312.22</td>\n",
              "      <td>306.22</td>\n",
              "      <td>6.0</td>\n",
              "    </tr>\n",
              "    <tr>\n",
              "      <th>4</th>\n",
              "      <td>2010</td>\n",
              "      <td>2</td>\n",
              "      <td>52.87</td>\n",
              "      <td>52.87</td>\n",
              "      <td>0.0</td>\n",
              "    </tr>\n",
              "  </tbody>\n",
              "</table>\n",
              "</div>"
            ],
            "text/plain": [
              "   Year  Quarter  TotalAmount  MedAmount  NonMedAmount\n",
              "0  2010        4         4.08       4.08           0.0\n",
              "1  2010        1       103.33     103.33           0.0\n",
              "2  2010        2       905.24     905.24           0.0\n",
              "3  2010        4       312.22     306.22           6.0\n",
              "4  2010        2        52.87      52.87           0.0"
            ]
          },
          "metadata": {
            "tags": []
          },
          "execution_count": 40
        }
      ]
    },
    {
      "cell_type": "code",
      "metadata": {
        "id": "nr8XXNZNl-p_",
        "colab_type": "code",
        "colab": {
          "base_uri": "https://localhost:8080/",
          "height": 204
        },
        "outputId": "54af5f30-b52d-44c3-e1c7-39efb60be644"
      },
      "source": [
        "# Let's try a groupby on Quarter showing the unstacking of TotalAmount with a Sum\n",
        "import numpy as np\n",
        "\n",
        "drugdata.groupby(['Year', 'Quarter']) [['TotalAmount']].sum()\n",
        "\n"
      ],
      "execution_count": null,
      "outputs": [
        {
          "output_type": "execute_result",
          "data": {
            "text/html": [
              "<div>\n",
              "<style scoped>\n",
              "    .dataframe tbody tr th:only-of-type {\n",
              "        vertical-align: middle;\n",
              "    }\n",
              "\n",
              "    .dataframe tbody tr th {\n",
              "        vertical-align: top;\n",
              "    }\n",
              "\n",
              "    .dataframe thead th {\n",
              "        text-align: right;\n",
              "    }\n",
              "</style>\n",
              "<table border=\"1\" class=\"dataframe\">\n",
              "  <thead>\n",
              "    <tr style=\"text-align: right;\">\n",
              "      <th></th>\n",
              "      <th></th>\n",
              "      <th>TotalAmount</th>\n",
              "    </tr>\n",
              "    <tr>\n",
              "      <th>Year</th>\n",
              "      <th>Quarter</th>\n",
              "      <th></th>\n",
              "    </tr>\n",
              "  </thead>\n",
              "  <tbody>\n",
              "    <tr>\n",
              "      <th rowspan=\"4\" valign=\"top\">2010</th>\n",
              "      <th>1</th>\n",
              "      <td>6.394527e+08</td>\n",
              "    </tr>\n",
              "    <tr>\n",
              "      <th>2</th>\n",
              "      <td>9.635157e+08</td>\n",
              "    </tr>\n",
              "    <tr>\n",
              "      <th>3</th>\n",
              "      <td>8.726385e+08</td>\n",
              "    </tr>\n",
              "    <tr>\n",
              "      <th>4</th>\n",
              "      <td>9.411984e+08</td>\n",
              "    </tr>\n",
              "  </tbody>\n",
              "</table>\n",
              "</div>"
            ],
            "text/plain": [
              "               TotalAmount\n",
              "Year Quarter              \n",
              "2010 1        6.394527e+08\n",
              "     2        9.635157e+08\n",
              "     3        8.726385e+08\n",
              "     4        9.411984e+08"
            ]
          },
          "metadata": {
            "tags": []
          },
          "execution_count": 41
        }
      ]
    },
    {
      "cell_type": "markdown",
      "metadata": {
        "id": "cG5pAn8qYkPM",
        "colab_type": "text"
      },
      "source": [
        "Next, let's try the function syntax on our 2010 State Drug Utilization Dataset."
      ]
    },
    {
      "cell_type": "code",
      "metadata": {
        "id": "AbbPnaFrdRpx",
        "colab_type": "code",
        "colab": {
          "base_uri": "https://localhost:8080/",
          "height": 289
        },
        "outputId": "302a8bb0-e76d-4c65-8221-3c8ae1250db6"
      },
      "source": [
        "# Let's try the Week 7 Function on the 2010 State Drug Utilization Dataset\n",
        "\n",
        "def get_MedDollar_data (drugdata, MedAmount, NonMedAmount, Quarter):\n",
        "    MedAmountQtr4 = (drugdata.loc[(drugdata.Quarter == 4) &\n",
        "                                          drugdata.category.isin(['MedAmount'])]\n",
        "                .groupby([Quarter, MedAmount]).sum()\n",
        "                .unstack(MedAmount)['Amount'].fillna(0)\n",
        "                .resample('M', axis=1).sum())\n",
        "    \n",
        "                \n",
        "                \n",
        "    \n",
        "    NonMedAmountQtr4 = (drugdata.loc[(drugdata.Quarter == 4) &\n",
        "                                              drugdata.category.isin(['NonMedAmount'])]\n",
        "                .groupby([Quarter, NonMedAmount]).sum()\n",
        "                .unstack(NonMedAmount)['Amount'].fillna(0)\n",
        "                .resample('M', axis=1).sum())\n",
        "                \n",
        "             \n",
        "    \n",
        "    return MedAmountQtr4.add(NonMedAmountQtr4 * -1, fill_value=0)\n",
        "\n",
        "print(drugdata)\n",
        "print()\n",
        "print(get_MedDollar_data)\n",
        "\n",
        "    \n",
        "\n",
        "    \n",
        "                                          \n",
        "                               "
      ],
      "execution_count": null,
      "outputs": [
        {
          "output_type": "stream",
          "text": [
            "        Year  Quarter  TotalAmount  MedAmount  NonMedAmount\n",
            "0       2010        4         4.08       4.08          0.00\n",
            "1       2010        1       103.33     103.33          0.00\n",
            "2       2010        2       905.24     905.24          0.00\n",
            "3       2010        4       312.22     306.22          6.00\n",
            "4       2010        2        52.87      52.87          0.00\n",
            "...      ...      ...          ...        ...           ...\n",
            "156215  2010        2        41.15      41.15          0.00\n",
            "156216  2010        4        16.48      16.48          0.00\n",
            "156217  2010        4        32.24      30.24          2.00\n",
            "156218  2010        4       152.68     146.68          6.00\n",
            "156219  2010        1       896.33     705.82        190.51\n",
            "\n",
            "[156220 rows x 5 columns]\n",
            "\n",
            "<function get_MedDollar_data at 0x7fe10a69ff28>\n"
          ],
          "name": "stdout"
        }
      ]
    },
    {
      "cell_type": "markdown",
      "metadata": {
        "id": "oqeoCeicpzKZ",
        "colab_type": "text"
      },
      "source": [
        "The fact that I got a memory printout indicates that there is nothing preventing the syntax from running within Pandas; however, it doesn't indicate that it will run correctly against the \"drugdata\" dataframe. We see this below by the errors that were generated when I tried to pass the dataframe through the function (get-MedDollar_data)."
      ]
    },
    {
      "cell_type": "code",
      "metadata": {
        "id": "iY3tKL6GseMT",
        "colab_type": "code",
        "colab": {
          "base_uri": "https://localhost:8080/",
          "height": 343
        },
        "outputId": "aa1eec72-a0ff-4275-bf94-87ac2676f357"
      },
      "source": [
        "breakoutMed = drugdata.groupby('Year').TotalAmount.agg(get_MedDollar_data)\n",
        "print(breakoutMed)"
      ],
      "execution_count": null,
      "outputs": [
        {
          "output_type": "error",
          "ename": "TypeError",
          "evalue": "ignored",
          "traceback": [
            "\u001b[0;31m---------------------------------------------------------------------------\u001b[0m",
            "\u001b[0;31mTypeError\u001b[0m                                 Traceback (most recent call last)",
            "\u001b[0;32m<ipython-input-46-4356c721036c>\u001b[0m in \u001b[0;36m<module>\u001b[0;34m()\u001b[0m\n\u001b[0;32m----> 1\u001b[0;31m \u001b[0mbreakoutMed\u001b[0m \u001b[0;34m=\u001b[0m \u001b[0mdrugdata\u001b[0m\u001b[0;34m.\u001b[0m\u001b[0mgroupby\u001b[0m\u001b[0;34m(\u001b[0m\u001b[0;34m'Year'\u001b[0m\u001b[0;34m)\u001b[0m\u001b[0;34m.\u001b[0m\u001b[0mTotalAmount\u001b[0m\u001b[0;34m.\u001b[0m\u001b[0magg\u001b[0m\u001b[0;34m(\u001b[0m\u001b[0mget_MedDollar_data\u001b[0m\u001b[0;34m)\u001b[0m\u001b[0;34m\u001b[0m\u001b[0;34m\u001b[0m\u001b[0m\n\u001b[0m\u001b[1;32m      2\u001b[0m \u001b[0mprint\u001b[0m\u001b[0;34m(\u001b[0m\u001b[0mbreakoutMed\u001b[0m\u001b[0;34m)\u001b[0m\u001b[0;34m\u001b[0m\u001b[0;34m\u001b[0m\u001b[0m\n",
            "\u001b[0;32m/usr/local/lib/python3.6/dist-packages/pandas/core/groupby/generic.py\u001b[0m in \u001b[0;36maggregate\u001b[0;34m(self, func, *args, **kwargs)\u001b[0m\n\u001b[1;32m    263\u001b[0m \u001b[0;34m\u001b[0m\u001b[0m\n\u001b[1;32m    264\u001b[0m             \u001b[0;32mtry\u001b[0m\u001b[0;34m:\u001b[0m\u001b[0;34m\u001b[0m\u001b[0;34m\u001b[0m\u001b[0m\n\u001b[0;32m--> 265\u001b[0;31m                 \u001b[0;32mreturn\u001b[0m \u001b[0mself\u001b[0m\u001b[0;34m.\u001b[0m\u001b[0m_python_agg_general\u001b[0m\u001b[0;34m(\u001b[0m\u001b[0mfunc\u001b[0m\u001b[0;34m,\u001b[0m \u001b[0;34m*\u001b[0m\u001b[0margs\u001b[0m\u001b[0;34m,\u001b[0m \u001b[0;34m**\u001b[0m\u001b[0mkwargs\u001b[0m\u001b[0;34m)\u001b[0m\u001b[0;34m\u001b[0m\u001b[0;34m\u001b[0m\u001b[0m\n\u001b[0m\u001b[1;32m    266\u001b[0m             \u001b[0;32mexcept\u001b[0m \u001b[0;34m(\u001b[0m\u001b[0mValueError\u001b[0m\u001b[0;34m,\u001b[0m \u001b[0mKeyError\u001b[0m\u001b[0;34m)\u001b[0m\u001b[0;34m:\u001b[0m\u001b[0;34m\u001b[0m\u001b[0;34m\u001b[0m\u001b[0m\n\u001b[1;32m    267\u001b[0m                 \u001b[0;31m# TODO: KeyError is raised in _python_agg_general,\u001b[0m\u001b[0;34m\u001b[0m\u001b[0;34m\u001b[0m\u001b[0;34m\u001b[0m\u001b[0m\n",
            "\u001b[0;32m/usr/local/lib/python3.6/dist-packages/pandas/core/groupby/groupby.py\u001b[0m in \u001b[0;36m_python_agg_general\u001b[0;34m(self, func, *args, **kwargs)\u001b[0m\n\u001b[1;32m    934\u001b[0m \u001b[0;34m\u001b[0m\u001b[0m\n\u001b[1;32m    935\u001b[0m         \u001b[0;32mif\u001b[0m \u001b[0mlen\u001b[0m\u001b[0;34m(\u001b[0m\u001b[0moutput\u001b[0m\u001b[0;34m)\u001b[0m \u001b[0;34m==\u001b[0m \u001b[0;36m0\u001b[0m\u001b[0;34m:\u001b[0m\u001b[0;34m\u001b[0m\u001b[0;34m\u001b[0m\u001b[0m\n\u001b[0;32m--> 936\u001b[0;31m             \u001b[0;32mreturn\u001b[0m \u001b[0mself\u001b[0m\u001b[0;34m.\u001b[0m\u001b[0m_python_apply_general\u001b[0m\u001b[0;34m(\u001b[0m\u001b[0mf\u001b[0m\u001b[0;34m)\u001b[0m\u001b[0;34m\u001b[0m\u001b[0;34m\u001b[0m\u001b[0m\n\u001b[0m\u001b[1;32m    937\u001b[0m \u001b[0;34m\u001b[0m\u001b[0m\n\u001b[1;32m    938\u001b[0m         \u001b[0;32mif\u001b[0m \u001b[0mself\u001b[0m\u001b[0;34m.\u001b[0m\u001b[0mgrouper\u001b[0m\u001b[0;34m.\u001b[0m\u001b[0m_filter_empty_groups\u001b[0m\u001b[0;34m:\u001b[0m\u001b[0;34m\u001b[0m\u001b[0;34m\u001b[0m\u001b[0m\n",
            "\u001b[0;32m/usr/local/lib/python3.6/dist-packages/pandas/core/groupby/groupby.py\u001b[0m in \u001b[0;36m_python_apply_general\u001b[0;34m(self, f)\u001b[0m\n\u001b[1;32m    750\u001b[0m \u001b[0;34m\u001b[0m\u001b[0m\n\u001b[1;32m    751\u001b[0m     \u001b[0;32mdef\u001b[0m \u001b[0m_python_apply_general\u001b[0m\u001b[0;34m(\u001b[0m\u001b[0mself\u001b[0m\u001b[0;34m,\u001b[0m \u001b[0mf\u001b[0m\u001b[0;34m)\u001b[0m\u001b[0;34m:\u001b[0m\u001b[0;34m\u001b[0m\u001b[0;34m\u001b[0m\u001b[0m\n\u001b[0;32m--> 752\u001b[0;31m         \u001b[0mkeys\u001b[0m\u001b[0;34m,\u001b[0m \u001b[0mvalues\u001b[0m\u001b[0;34m,\u001b[0m \u001b[0mmutated\u001b[0m \u001b[0;34m=\u001b[0m \u001b[0mself\u001b[0m\u001b[0;34m.\u001b[0m\u001b[0mgrouper\u001b[0m\u001b[0;34m.\u001b[0m\u001b[0mapply\u001b[0m\u001b[0;34m(\u001b[0m\u001b[0mf\u001b[0m\u001b[0;34m,\u001b[0m \u001b[0mself\u001b[0m\u001b[0;34m.\u001b[0m\u001b[0m_selected_obj\u001b[0m\u001b[0;34m,\u001b[0m \u001b[0mself\u001b[0m\u001b[0;34m.\u001b[0m\u001b[0maxis\u001b[0m\u001b[0;34m)\u001b[0m\u001b[0;34m\u001b[0m\u001b[0;34m\u001b[0m\u001b[0m\n\u001b[0m\u001b[1;32m    753\u001b[0m \u001b[0;34m\u001b[0m\u001b[0m\n\u001b[1;32m    754\u001b[0m         return self._wrap_applied_output(\n",
            "\u001b[0;32m/usr/local/lib/python3.6/dist-packages/pandas/core/groupby/ops.py\u001b[0m in \u001b[0;36mapply\u001b[0;34m(self, f, data, axis)\u001b[0m\n\u001b[1;32m    204\u001b[0m             \u001b[0;31m# group might be modified\u001b[0m\u001b[0;34m\u001b[0m\u001b[0;34m\u001b[0m\u001b[0;34m\u001b[0m\u001b[0m\n\u001b[1;32m    205\u001b[0m             \u001b[0mgroup_axes\u001b[0m \u001b[0;34m=\u001b[0m \u001b[0mgroup\u001b[0m\u001b[0;34m.\u001b[0m\u001b[0maxes\u001b[0m\u001b[0;34m\u001b[0m\u001b[0;34m\u001b[0m\u001b[0m\n\u001b[0;32m--> 206\u001b[0;31m             \u001b[0mres\u001b[0m \u001b[0;34m=\u001b[0m \u001b[0mf\u001b[0m\u001b[0;34m(\u001b[0m\u001b[0mgroup\u001b[0m\u001b[0;34m)\u001b[0m\u001b[0;34m\u001b[0m\u001b[0;34m\u001b[0m\u001b[0m\n\u001b[0m\u001b[1;32m    207\u001b[0m             \u001b[0;32mif\u001b[0m \u001b[0;32mnot\u001b[0m \u001b[0m_is_indexed_like\u001b[0m\u001b[0;34m(\u001b[0m\u001b[0mres\u001b[0m\u001b[0;34m,\u001b[0m \u001b[0mgroup_axes\u001b[0m\u001b[0;34m)\u001b[0m\u001b[0;34m:\u001b[0m\u001b[0;34m\u001b[0m\u001b[0;34m\u001b[0m\u001b[0m\n\u001b[1;32m    208\u001b[0m                 \u001b[0mmutated\u001b[0m \u001b[0;34m=\u001b[0m \u001b[0;32mTrue\u001b[0m\u001b[0;34m\u001b[0m\u001b[0;34m\u001b[0m\u001b[0m\n",
            "\u001b[0;32m/usr/local/lib/python3.6/dist-packages/pandas/core/groupby/groupby.py\u001b[0m in \u001b[0;36m<lambda>\u001b[0;34m(x)\u001b[0m\n\u001b[1;32m    912\u001b[0m     \u001b[0;32mdef\u001b[0m \u001b[0m_python_agg_general\u001b[0m\u001b[0;34m(\u001b[0m\u001b[0mself\u001b[0m\u001b[0;34m,\u001b[0m \u001b[0mfunc\u001b[0m\u001b[0;34m,\u001b[0m \u001b[0;34m*\u001b[0m\u001b[0margs\u001b[0m\u001b[0;34m,\u001b[0m \u001b[0;34m**\u001b[0m\u001b[0mkwargs\u001b[0m\u001b[0;34m)\u001b[0m\u001b[0;34m:\u001b[0m\u001b[0;34m\u001b[0m\u001b[0;34m\u001b[0m\u001b[0m\n\u001b[1;32m    913\u001b[0m         \u001b[0mfunc\u001b[0m \u001b[0;34m=\u001b[0m \u001b[0mself\u001b[0m\u001b[0;34m.\u001b[0m\u001b[0m_is_builtin_func\u001b[0m\u001b[0;34m(\u001b[0m\u001b[0mfunc\u001b[0m\u001b[0;34m)\u001b[0m\u001b[0;34m\u001b[0m\u001b[0;34m\u001b[0m\u001b[0m\n\u001b[0;32m--> 914\u001b[0;31m         \u001b[0mf\u001b[0m \u001b[0;34m=\u001b[0m \u001b[0;32mlambda\u001b[0m \u001b[0mx\u001b[0m\u001b[0;34m:\u001b[0m \u001b[0mfunc\u001b[0m\u001b[0;34m(\u001b[0m\u001b[0mx\u001b[0m\u001b[0;34m,\u001b[0m \u001b[0;34m*\u001b[0m\u001b[0margs\u001b[0m\u001b[0;34m,\u001b[0m \u001b[0;34m**\u001b[0m\u001b[0mkwargs\u001b[0m\u001b[0;34m)\u001b[0m\u001b[0;34m\u001b[0m\u001b[0;34m\u001b[0m\u001b[0m\n\u001b[0m\u001b[1;32m    915\u001b[0m \u001b[0;34m\u001b[0m\u001b[0m\n\u001b[1;32m    916\u001b[0m         \u001b[0;31m# iterate through \"columns\" ex exclusions to populate output dict\u001b[0m\u001b[0;34m\u001b[0m\u001b[0;34m\u001b[0m\u001b[0;34m\u001b[0m\u001b[0m\n",
            "\u001b[0;31mTypeError\u001b[0m: get_MedDollar_data() missing 3 required positional arguments: 'MedAmount', 'NonMedAmount', and 'Quarter'"
          ]
        }
      ]
    },
    {
      "cell_type": "code",
      "metadata": {
        "id": "gtp0-9CatmMh",
        "colab_type": "code",
        "colab": {}
      },
      "source": [
        ""
      ],
      "execution_count": null,
      "outputs": []
    },
    {
      "cell_type": "markdown",
      "metadata": {
        "id": "u3laxQTWsQxJ",
        "colab_type": "text"
      },
      "source": [
        "The purpose of my function (get_MedDollar_data) was to pull the MedAmount dollar values for the 4th Quarter of 2010 and add it to the NonMedAmount dollar values for the 4th Quarter of 2010. This was to have generated an unstacked output of the combined dollar amounts of Medicaid dollars added to Non-Medicaid dollars showing a total sum for the 4th Quarter.\n",
        "\n",
        "I failed in my attempt. I would require an example of how to write the syntax for a similiar problem in order to apply it to my dataset and get a favorable output."
      ]
    },
    {
      "cell_type": "code",
      "metadata": {
        "id": "-Xb4gaImibyj",
        "colab_type": "code",
        "colab": {
          "base_uri": "https://localhost:8080/",
          "height": 221
        },
        "outputId": "e40b415e-4312-48f9-eaf1-27195b815e5a"
      },
      "source": [
        "# Let's see a different view of this task\n",
        "import numpy as np\n",
        "import sys\n",
        "import seaborn as sns\n",
        "\n",
        "drugdata.info()\n"
      ],
      "execution_count": null,
      "outputs": [
        {
          "output_type": "stream",
          "text": [
            "<class 'pandas.core.frame.DataFrame'>\n",
            "RangeIndex: 156220 entries, 0 to 156219\n",
            "Data columns (total 5 columns):\n",
            " #   Column        Non-Null Count   Dtype  \n",
            "---  ------        --------------   -----  \n",
            " 0   Year          156220 non-null  int64  \n",
            " 1   Quarter       156220 non-null  int64  \n",
            " 2   TotalAmount   156220 non-null  float64\n",
            " 3   MedAmount     156220 non-null  float64\n",
            " 4   NonMedAmount  156220 non-null  float64\n",
            "dtypes: float64(3), int64(2)\n",
            "memory usage: 6.0 MB\n"
          ],
          "name": "stdout"
        }
      ]
    },
    {
      "cell_type": "code",
      "metadata": {
        "id": "WkXGuuUKUmvj",
        "colab_type": "code",
        "colab": {
          "base_uri": "https://localhost:8080/",
          "height": 204
        },
        "outputId": "52b7e93d-e499-4971-e408-19156a1192f8"
      },
      "source": [
        "# Let's use a function to add two columns of data together\n",
        "def add(MedAmount, NonMedAmount):\n",
        "  return MedAmount + NonMedAmount\n",
        "drugdata[\"MedAmount + NonMedAmount\"] = add(drugdata[\"MedAmount\"], drugdata[\"NonMedAmount\"])\n",
        "drugdata.head(5)\n"
      ],
      "execution_count": null,
      "outputs": [
        {
          "output_type": "execute_result",
          "data": {
            "text/html": [
              "<div>\n",
              "<style scoped>\n",
              "    .dataframe tbody tr th:only-of-type {\n",
              "        vertical-align: middle;\n",
              "    }\n",
              "\n",
              "    .dataframe tbody tr th {\n",
              "        vertical-align: top;\n",
              "    }\n",
              "\n",
              "    .dataframe thead th {\n",
              "        text-align: right;\n",
              "    }\n",
              "</style>\n",
              "<table border=\"1\" class=\"dataframe\">\n",
              "  <thead>\n",
              "    <tr style=\"text-align: right;\">\n",
              "      <th></th>\n",
              "      <th>Year</th>\n",
              "      <th>Quarter</th>\n",
              "      <th>TotalAmount</th>\n",
              "      <th>MedAmount</th>\n",
              "      <th>NonMedAmount</th>\n",
              "      <th>MedAmount + NonMedAmount</th>\n",
              "    </tr>\n",
              "  </thead>\n",
              "  <tbody>\n",
              "    <tr>\n",
              "      <th>0</th>\n",
              "      <td>2010</td>\n",
              "      <td>4</td>\n",
              "      <td>4.08</td>\n",
              "      <td>4.08</td>\n",
              "      <td>0.0</td>\n",
              "      <td>4.08</td>\n",
              "    </tr>\n",
              "    <tr>\n",
              "      <th>1</th>\n",
              "      <td>2010</td>\n",
              "      <td>1</td>\n",
              "      <td>103.33</td>\n",
              "      <td>103.33</td>\n",
              "      <td>0.0</td>\n",
              "      <td>103.33</td>\n",
              "    </tr>\n",
              "    <tr>\n",
              "      <th>2</th>\n",
              "      <td>2010</td>\n",
              "      <td>2</td>\n",
              "      <td>905.24</td>\n",
              "      <td>905.24</td>\n",
              "      <td>0.0</td>\n",
              "      <td>905.24</td>\n",
              "    </tr>\n",
              "    <tr>\n",
              "      <th>3</th>\n",
              "      <td>2010</td>\n",
              "      <td>4</td>\n",
              "      <td>312.22</td>\n",
              "      <td>306.22</td>\n",
              "      <td>6.0</td>\n",
              "      <td>312.22</td>\n",
              "    </tr>\n",
              "    <tr>\n",
              "      <th>4</th>\n",
              "      <td>2010</td>\n",
              "      <td>2</td>\n",
              "      <td>52.87</td>\n",
              "      <td>52.87</td>\n",
              "      <td>0.0</td>\n",
              "      <td>52.87</td>\n",
              "    </tr>\n",
              "  </tbody>\n",
              "</table>\n",
              "</div>"
            ],
            "text/plain": [
              "   Year  Quarter  ...  NonMedAmount  MedAmount + NonMedAmount\n",
              "0  2010        4  ...           0.0                      4.08\n",
              "1  2010        1  ...           0.0                    103.33\n",
              "2  2010        2  ...           0.0                    905.24\n",
              "3  2010        4  ...           6.0                    312.22\n",
              "4  2010        2  ...           0.0                     52.87\n",
              "\n",
              "[5 rows x 6 columns]"
            ]
          },
          "metadata": {
            "tags": []
          },
          "execution_count": 44
        }
      ]
    },
    {
      "cell_type": "markdown",
      "metadata": {
        "id": "SVvScO6Zq7xb",
        "colab_type": "text"
      },
      "source": [
        "So, here I added MedAmount and NonMedAmount together in the function I called \"add\", then I output the combined sum into a new column called \"MedAmount + NonMedAmount\".\n",
        "\n",
        "I also left the column TotalAmount in the dataframe as a reference to the addition function \"add\" just to see if it actually worked."
      ]
    },
    {
      "cell_type": "code",
      "metadata": {
        "id": "GBGQ_hr7WjJp",
        "colab_type": "code",
        "colab": {
          "base_uri": "https://localhost:8080/",
          "height": 153
        },
        "outputId": "e984b5d0-facc-4e3f-fc38-160db99c4861"
      },
      "source": [
        "# Group by Year and Quarter and use \".describe\" on the TotalAmount Column.\n",
        "MedDollars_describe = drugdata.groupby(['Year','Quarter']).TotalAmount.describe()\n",
        "print(MedDollars_describe)"
      ],
      "execution_count": null,
      "outputs": [
        {
          "output_type": "stream",
          "text": [
            "                count          mean  ...        75%          max\n",
            "Year Quarter                         ...                        \n",
            "2010 1        34514.0  18527.343723  ...  1997.7725  26636673.33\n",
            "     2        39491.0  24398.361005  ...  2154.6550  47016635.91\n",
            "     3        40867.0  21353.133388  ...  2183.3250  40510291.45\n",
            "     4        41348.0  22762.851187  ...  2236.6850  50339487.23\n",
            "\n",
            "[4 rows x 8 columns]\n"
          ],
          "name": "stdout"
        }
      ]
    },
    {
      "cell_type": "markdown",
      "metadata": {
        "id": "A7BNGiAurxzs",
        "colab_type": "text"
      },
      "source": [
        "Just some basic statistics on the TotalAmount Column using the \".describe' function with \".groupby\" used to filter the output by Year, and Quarter."
      ]
    }
  ]
}