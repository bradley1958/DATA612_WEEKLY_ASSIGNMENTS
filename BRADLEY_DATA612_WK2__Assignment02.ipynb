{
  "nbformat": 4,
  "nbformat_minor": 0,
  "metadata": {
    "colab": {
      "name": "BRADLEY_DATA612_WK2_ Assignment02.ipynb",
      "provenance": [],
      "collapsed_sections": []
    },
    "kernelspec": {
      "name": "python3",
      "display_name": "Python 3"
    }
  },
  "cells": [
    {
      "cell_type": "markdown",
      "metadata": {
        "id": "qTVw3jQgGaWL",
        "colab_type": "text"
      },
      "source": [
        "# Assignment for Week 2"
      ]
    },
    {
      "cell_type": "markdown",
      "metadata": {
        "id": "nXTJBBaqGnqN",
        "colab_type": "text"
      },
      "source": [
        "## Purpose:     \n",
        "This assignment is intended to help you do the following:   \n",
        "1.\tModify and add information on the dataset by adding and calculating new columns     \n",
        "2.\tWork with dates in a dataset       \n",
        "3.\tLearn how to write and save your work as a csv file from Jupyter Notebook.       \n"
      ]
    },
    {
      "cell_type": "markdown",
      "metadata": {
        "id": "KBQPWLNtHJuG",
        "colab_type": "text"
      },
      "source": [
        "## Action Items:       \n",
        "•\tCreate a new column using the date column.     \n",
        "  1. Find the maximum date of your data.     \n",
        "  2. Subtract all the dates on the column from the maximum date.       \n",
        "  3. Convert the number of days into number of months.       \n",
        "  4. Save the result on a new column and add to the data set.        \n",
        "  5. Save the dataset as a csv file.        \n",
        "  6. Upload the assignment on your GitHub account and Update the README file where you explain everything you did.      "
      ]
    },
    {
      "cell_type": "code",
      "metadata": {
        "id": "PG0E8VElk1aK",
        "colab_type": "code",
        "colab": {}
      },
      "source": [
        "# Import the required Dataset from Franklin GitHub site\n",
        "import pandas as pd\n",
        "df = pd.read_csv('https://raw.githubusercontent.com/frankData612/data_612/master/State_Drug_Utilization_Data_2010/State_Drug_Utilization_Data_2010.csv')"
      ],
      "execution_count": 0,
      "outputs": []
    },
    {
      "cell_type": "code",
      "metadata": {
        "id": "D2kI6OFXlmkM",
        "colab_type": "code",
        "outputId": "54d843f4-9138-456e-b336-777c6abc2eae",
        "colab": {
          "base_uri": "https://localhost:8080/",
          "height": 343
        }
      },
      "source": [
        "# Let's see the first 5 rows of the Dataset\n",
        "df.head(5)"
      ],
      "execution_count": 0,
      "outputs": [
        {
          "output_type": "execute_result",
          "data": {
            "text/html": [
              "<div>\n",
              "<style scoped>\n",
              "    .dataframe tbody tr th:only-of-type {\n",
              "        vertical-align: middle;\n",
              "    }\n",
              "\n",
              "    .dataframe tbody tr th {\n",
              "        vertical-align: top;\n",
              "    }\n",
              "\n",
              "    .dataframe thead th {\n",
              "        text-align: right;\n",
              "    }\n",
              "</style>\n",
              "<table border=\"1\" class=\"dataframe\">\n",
              "  <thead>\n",
              "    <tr style=\"text-align: right;\">\n",
              "      <th></th>\n",
              "      <th>Unnamed: 0</th>\n",
              "      <th>Utilization Type</th>\n",
              "      <th>State</th>\n",
              "      <th>Labeler Code</th>\n",
              "      <th>Product Code</th>\n",
              "      <th>Package Size</th>\n",
              "      <th>Year</th>\n",
              "      <th>Quarter</th>\n",
              "      <th>Product Name</th>\n",
              "      <th>Units Reimbursed</th>\n",
              "      <th>Suppression Used</th>\n",
              "      <th>Number of Prescriptions</th>\n",
              "      <th>Total Amount Reimbursed</th>\n",
              "      <th>Medicaid Amount Reimbursed</th>\n",
              "      <th>Non Medicaid Amount Reimbursed</th>\n",
              "      <th>Quarter Begin</th>\n",
              "      <th>Quarter Begin Date</th>\n",
              "      <th>Latitude</th>\n",
              "      <th>Longitude</th>\n",
              "      <th>Location</th>\n",
              "      <th>NDC</th>\n",
              "    </tr>\n",
              "  </thead>\n",
              "  <tbody>\n",
              "    <tr>\n",
              "      <th>0</th>\n",
              "      <td>128037</td>\n",
              "      <td>MCOU</td>\n",
              "      <td>MA</td>\n",
              "      <td>37205</td>\n",
              "      <td>137</td>\n",
              "      <td>5</td>\n",
              "      <td>2010</td>\n",
              "      <td>4</td>\n",
              "      <td>ARTIFICIAL</td>\n",
              "      <td>15.000</td>\n",
              "      <td>False</td>\n",
              "      <td>1</td>\n",
              "      <td>4.08</td>\n",
              "      <td>4.08</td>\n",
              "      <td>0.0</td>\n",
              "      <td>10/1</td>\n",
              "      <td>10/01/2010</td>\n",
              "      <td>31.1801</td>\n",
              "      <td>-91.8749</td>\n",
              "      <td>(31.1801, -91.8749)</td>\n",
              "      <td>37205013705</td>\n",
              "    </tr>\n",
              "    <tr>\n",
              "      <th>1</th>\n",
              "      <td>491755</td>\n",
              "      <td>FFSU</td>\n",
              "      <td>FL</td>\n",
              "      <td>62756</td>\n",
              "      <td>763</td>\n",
              "      <td>88</td>\n",
              "      <td>2010</td>\n",
              "      <td>1</td>\n",
              "      <td>TORSEMIDE</td>\n",
              "      <td>255.000</td>\n",
              "      <td>False</td>\n",
              "      <td>8</td>\n",
              "      <td>103.33</td>\n",
              "      <td>103.33</td>\n",
              "      <td>0.0</td>\n",
              "      <td>1/1</td>\n",
              "      <td>01/01/2010</td>\n",
              "      <td>39.3498</td>\n",
              "      <td>-75.5148</td>\n",
              "      <td>(39.3498, -75.5148)</td>\n",
              "      <td>62756076388</td>\n",
              "    </tr>\n",
              "    <tr>\n",
              "      <th>2</th>\n",
              "      <td>2568076</td>\n",
              "      <td>FFSU</td>\n",
              "      <td>UT</td>\n",
              "      <td>46987</td>\n",
              "      <td>323</td>\n",
              "      <td>11</td>\n",
              "      <td>2010</td>\n",
              "      <td>2</td>\n",
              "      <td>Kadian Ora</td>\n",
              "      <td>120.000</td>\n",
              "      <td>False</td>\n",
              "      <td>2</td>\n",
              "      <td>905.24</td>\n",
              "      <td>905.24</td>\n",
              "      <td>0.0</td>\n",
              "      <td>4/1</td>\n",
              "      <td>04/01/2010</td>\n",
              "      <td>44.2853</td>\n",
              "      <td>-99.4632</td>\n",
              "      <td>(44.2853, -99.4632)</td>\n",
              "      <td>46987032311</td>\n",
              "    </tr>\n",
              "    <tr>\n",
              "      <th>3</th>\n",
              "      <td>491263</td>\n",
              "      <td>FFSU</td>\n",
              "      <td>MN</td>\n",
              "      <td>781</td>\n",
              "      <td>5185</td>\n",
              "      <td>1</td>\n",
              "      <td>2010</td>\n",
              "      <td>4</td>\n",
              "      <td>LEVOTHYROX</td>\n",
              "      <td>1114.000</td>\n",
              "      <td>False</td>\n",
              "      <td>34</td>\n",
              "      <td>312.22</td>\n",
              "      <td>306.22</td>\n",
              "      <td>6.0</td>\n",
              "      <td>10/1</td>\n",
              "      <td>10/01/2010</td>\n",
              "      <td>43.3504</td>\n",
              "      <td>-84.5603</td>\n",
              "      <td>(43.3504, -84.5603)</td>\n",
              "      <td>781518501</td>\n",
              "    </tr>\n",
              "    <tr>\n",
              "      <th>4</th>\n",
              "      <td>836489</td>\n",
              "      <td>FFSU</td>\n",
              "      <td>XX</td>\n",
              "      <td>51552</td>\n",
              "      <td>809</td>\n",
              "      <td>6</td>\n",
              "      <td>2010</td>\n",
              "      <td>2</td>\n",
              "      <td>COLD CREAM</td>\n",
              "      <td>226.089</td>\n",
              "      <td>False</td>\n",
              "      <td>7</td>\n",
              "      <td>52.87</td>\n",
              "      <td>52.87</td>\n",
              "      <td>0.0</td>\n",
              "      <td>4/1</td>\n",
              "      <td>04/01/2010</td>\n",
              "      <td>NaN</td>\n",
              "      <td>NaN</td>\n",
              "      <td>NaN</td>\n",
              "      <td>51552080906</td>\n",
              "    </tr>\n",
              "  </tbody>\n",
              "</table>\n",
              "</div>"
            ],
            "text/plain": [
              "   Unnamed: 0 Utilization Type  ...             Location          NDC\n",
              "0      128037             MCOU  ...  (31.1801, -91.8749)  37205013705\n",
              "1      491755             FFSU  ...  (39.3498, -75.5148)  62756076388\n",
              "2     2568076             FFSU  ...  (44.2853, -99.4632)  46987032311\n",
              "3      491263             FFSU  ...  (43.3504, -84.5603)    781518501\n",
              "4      836489             FFSU  ...                  NaN  51552080906\n",
              "\n",
              "[5 rows x 21 columns]"
            ]
          },
          "metadata": {
            "tags": []
          },
          "execution_count": 68
        }
      ]
    },
    {
      "cell_type": "code",
      "metadata": {
        "id": "hC-GMi2flzze",
        "colab_type": "code",
        "outputId": "f9e0817e-dfc9-47f8-af5c-4b37cf1effdb",
        "colab": {
          "base_uri": "https://localhost:8080/",
          "height": 136
        }
      },
      "source": [
        "# Print the Column Names from the 2010 State Drug Utilization Dataset\n",
        "print(df.columns)"
      ],
      "execution_count": 0,
      "outputs": [
        {
          "output_type": "stream",
          "text": [
            "Index(['Unnamed: 0', 'Utilization Type', 'State', 'Labeler Code',\n",
            "       'Product Code', 'Package Size', 'Year', 'Quarter', 'Product Name',\n",
            "       'Units Reimbursed', 'Suppression Used', 'Number of Prescriptions',\n",
            "       'Total Amount Reimbursed', 'Medicaid Amount Reimbursed',\n",
            "       'Non Medicaid Amount Reimbursed', 'Quarter Begin', 'Quarter Begin Date',\n",
            "       'Latitude', 'Longitude', 'Location', 'NDC'],\n",
            "      dtype='object')\n"
          ],
          "name": "stdout"
        }
      ]
    },
    {
      "cell_type": "code",
      "metadata": {
        "id": "KHYb9N1QmFk8",
        "colab_type": "code",
        "outputId": "49cbb04d-1d0a-441e-f261-2c33dd5f1a63",
        "colab": {
          "base_uri": "https://localhost:8080/",
          "height": 493
        }
      },
      "source": [
        "# Now let's look at the data types from the 2010 State Drug Utilization Dataset\n",
        "df.info()"
      ],
      "execution_count": 0,
      "outputs": [
        {
          "output_type": "stream",
          "text": [
            "<class 'pandas.core.frame.DataFrame'>\n",
            "RangeIndex: 156220 entries, 0 to 156219\n",
            "Data columns (total 21 columns):\n",
            " #   Column                          Non-Null Count   Dtype  \n",
            "---  ------                          --------------   -----  \n",
            " 0   Unnamed: 0                      156220 non-null  int64  \n",
            " 1   Utilization Type                156220 non-null  object \n",
            " 2   State                           156220 non-null  object \n",
            " 3   Labeler Code                    156220 non-null  int64  \n",
            " 4   Product Code                    156220 non-null  int64  \n",
            " 5   Package Size                    156220 non-null  int64  \n",
            " 6   Year                            156220 non-null  int64  \n",
            " 7   Quarter                         156220 non-null  int64  \n",
            " 8   Product Name                    156166 non-null  object \n",
            " 9   Units Reimbursed                156220 non-null  float64\n",
            " 10  Suppression Used                156220 non-null  bool   \n",
            " 11  Number of Prescriptions         156220 non-null  int64  \n",
            " 12  Total Amount Reimbursed         156220 non-null  float64\n",
            " 13  Medicaid Amount Reimbursed      156220 non-null  float64\n",
            " 14  Non Medicaid Amount Reimbursed  156220 non-null  float64\n",
            " 15  Quarter Begin                   156220 non-null  object \n",
            " 16  Quarter Begin Date              156220 non-null  object \n",
            " 17  Latitude                        145416 non-null  float64\n",
            " 18  Longitude                       145416 non-null  float64\n",
            " 19  Location                        145416 non-null  object \n",
            " 20  NDC                             156220 non-null  int64  \n",
            "dtypes: bool(1), float64(6), int64(8), object(6)\n",
            "memory usage: 24.0+ MB\n"
          ],
          "name": "stdout"
        }
      ]
    },
    {
      "cell_type": "markdown",
      "metadata": {
        "id": "ay_90o9NmZ2L",
        "colab_type": "text"
      },
      "source": [
        "We can see from the above output that \"Year\" and \"Quarter\" are (int64), but \"Quarter Begin\" and \"Quarter Begin Date\" are (object). We will have to convert \"Quarter Begin Date\" to an (int64) value under a new Column Heading. We also have no \"null\" values to deal with."
      ]
    },
    {
      "cell_type": "markdown",
      "metadata": {
        "id": "kkpewRF6ndPj",
        "colab_type": "text"
      },
      "source": [
        "Item 1 - Find the Max and Min dates associated with the 2010 State Drug Utilization Dataset. "
      ]
    },
    {
      "cell_type": "code",
      "metadata": {
        "id": "ZlfqnzSCFfqH",
        "colab_type": "code",
        "outputId": "e9d018fe-35a3-4fc0-e718-6333703702ed",
        "colab": {
          "base_uri": "https://localhost:8080/",
          "height": 34
        }
      },
      "source": [
        "# Let's see the Minimun Date in the \"Quarter Begin Date\" Column\n",
        "min(df['Quarter Begin Date'])\n"
      ],
      "execution_count": 0,
      "outputs": [
        {
          "output_type": "execute_result",
          "data": {
            "text/plain": [
              "'01/01/2010'"
            ]
          },
          "metadata": {
            "tags": []
          },
          "execution_count": 71
        }
      ]
    },
    {
      "cell_type": "code",
      "metadata": {
        "id": "EZuCtuV-F5iw",
        "colab_type": "code",
        "outputId": "b5aebe8f-6550-4a75-e730-011fdf69ae42",
        "colab": {
          "base_uri": "https://localhost:8080/",
          "height": 34
        }
      },
      "source": [
        "# Let's see the Maximun Date in the \"Quater Begin Date\" Column\n",
        "max(df['Quarter Begin Date'])"
      ],
      "execution_count": 0,
      "outputs": [
        {
          "output_type": "execute_result",
          "data": {
            "text/plain": [
              "'10/01/2010'"
            ]
          },
          "metadata": {
            "tags": []
          },
          "execution_count": 72
        }
      ]
    },
    {
      "cell_type": "code",
      "metadata": {
        "id": "m8jV8fK5GHu-",
        "colab_type": "code",
        "outputId": "d1bb3b71-3bd1-43e5-894b-841c6d789fb8",
        "colab": {
          "base_uri": "https://localhost:8080/",
          "height": 34
        }
      },
      "source": [
        "# Let's see the Max Year in our Dataset\n",
        "max(df['Year'])"
      ],
      "execution_count": 0,
      "outputs": [
        {
          "output_type": "execute_result",
          "data": {
            "text/plain": [
              "2010"
            ]
          },
          "metadata": {
            "tags": []
          },
          "execution_count": 73
        }
      ]
    },
    {
      "cell_type": "code",
      "metadata": {
        "id": "BN3CgdP1G-kg",
        "colab_type": "code",
        "outputId": "eb13a5f4-4d65-448d-b8ec-7ff943c06cf2",
        "colab": {
          "base_uri": "https://localhost:8080/",
          "height": 34
        }
      },
      "source": [
        "# Let's see the Min Year in our Dataset\n",
        "min(df['Year'])"
      ],
      "execution_count": 0,
      "outputs": [
        {
          "output_type": "execute_result",
          "data": {
            "text/plain": [
              "2010"
            ]
          },
          "metadata": {
            "tags": []
          },
          "execution_count": 74
        }
      ]
    },
    {
      "cell_type": "markdown",
      "metadata": {
        "id": "oUvPBAEYGVlh",
        "colab_type": "text"
      },
      "source": [
        "So, what have we learned? We can see from the syntax above that the dateset is composed of only one year's worth of data (Year - 2010). We also know that the information starts on January 1, 2010 and ends with October 1, 2010 (The Maximum Date)."
      ]
    },
    {
      "cell_type": "code",
      "metadata": {
        "id": "aPQLK2Y1IPvF",
        "colab_type": "code",
        "outputId": "e6aba154-40c7-42c7-9787-4d656e451099",
        "colab": {
          "base_uri": "https://localhost:8080/",
          "height": 476
        }
      },
      "source": [
        "# Let's see our Data Types again\n",
        "df.dtypes"
      ],
      "execution_count": 0,
      "outputs": [
        {
          "output_type": "execute_result",
          "data": {
            "text/plain": [
              "Unnamed: 0                                 int64\n",
              "Utilization Type                          object\n",
              "Start_Date                        datetime64[ns]\n",
              "State                                     object\n",
              "Labeler Code                               int64\n",
              "Product Code                               int64\n",
              "Package Size                               int64\n",
              "Year                                       int64\n",
              "Quarter                                    int64\n",
              "Product Name                              object\n",
              "Units Reimbursed                         float64\n",
              "Suppression Used                            bool\n",
              "Number of Prescriptions                    int64\n",
              "Total Amount Reimbursed                  float64\n",
              "Medicaid Amount Reimbursed               float64\n",
              "Non Medicaid Amount Reimbursed           float64\n",
              "Quarter Begin                             object\n",
              "Quarter Begin Date                        object\n",
              "Latitude                                 float64\n",
              "Longitude                                float64\n",
              "Location                                  object\n",
              "NDC                                        int64\n",
              "Qtr_Date                          datetime64[ns]\n",
              "diff                                     float64\n",
              "End_Date                          datetime64[ns]\n",
              "Diff_Months                              float64\n",
              "dtype: object"
            ]
          },
          "metadata": {
            "tags": []
          },
          "execution_count": 66
        }
      ]
    },
    {
      "cell_type": "code",
      "metadata": {
        "id": "cyRk080eJDBt",
        "colab_type": "code",
        "colab": {}
      },
      "source": [
        "# Let's load some additional pandas features\n",
        "import numpy as np\n",
        "import seaborn as sns\n",
        "import matplotlib.pyplot as plt\n",
        "import pandas.util.testing as tm\n",
        "from pandas import set_option\n",
        "import datetime as dt\n",
        "from dateutil.relativedelta import relativedelta\n",
        "from datetime import date"
      ],
      "execution_count": 0,
      "outputs": []
    },
    {
      "cell_type": "markdown",
      "metadata": {
        "id": "WECuWLgce1b2",
        "colab_type": "text"
      },
      "source": [
        "This Datset has a \"Start Date\" of 1 Jan 2010 and an \"End Date\" of 1 Oct 2010. I am going to insert two new columns into the Dateset called Start_Date and End_Date with static values of 1 Jan 2010 and 1 Oct 2010 respectively. This will allow for the date calculation for this weeks homework assignment. "
      ]
    },
    {
      "cell_type": "code",
      "metadata": {
        "id": "n_nUU_jGfeJ_",
        "colab_type": "code",
        "outputId": "5ac635db-7e0a-4ca4-9032-ea7d98d056ac",
        "colab": {
          "base_uri": "https://localhost:8080/",
          "height": 264
        }
      },
      "source": [
        "# insert the Start Date\n",
        "df['Start_Date'] = pd.Timestamp('2010-01-01')\n",
        "df.head(3)\n",
        "\n"
      ],
      "execution_count": 0,
      "outputs": [
        {
          "output_type": "execute_result",
          "data": {
            "text/html": [
              "<div>\n",
              "<style scoped>\n",
              "    .dataframe tbody tr th:only-of-type {\n",
              "        vertical-align: middle;\n",
              "    }\n",
              "\n",
              "    .dataframe tbody tr th {\n",
              "        vertical-align: top;\n",
              "    }\n",
              "\n",
              "    .dataframe thead th {\n",
              "        text-align: right;\n",
              "    }\n",
              "</style>\n",
              "<table border=\"1\" class=\"dataframe\">\n",
              "  <thead>\n",
              "    <tr style=\"text-align: right;\">\n",
              "      <th></th>\n",
              "      <th>Unnamed: 0</th>\n",
              "      <th>Utilization Type</th>\n",
              "      <th>State</th>\n",
              "      <th>Labeler Code</th>\n",
              "      <th>Product Code</th>\n",
              "      <th>Package Size</th>\n",
              "      <th>Year</th>\n",
              "      <th>Quarter</th>\n",
              "      <th>Product Name</th>\n",
              "      <th>Units Reimbursed</th>\n",
              "      <th>Suppression Used</th>\n",
              "      <th>Number of Prescriptions</th>\n",
              "      <th>Total Amount Reimbursed</th>\n",
              "      <th>Medicaid Amount Reimbursed</th>\n",
              "      <th>Non Medicaid Amount Reimbursed</th>\n",
              "      <th>Quarter Begin</th>\n",
              "      <th>Quarter Begin Date</th>\n",
              "      <th>Latitude</th>\n",
              "      <th>Longitude</th>\n",
              "      <th>Location</th>\n",
              "      <th>NDC</th>\n",
              "      <th>End_Date</th>\n",
              "      <th>Start_Date</th>\n",
              "    </tr>\n",
              "  </thead>\n",
              "  <tbody>\n",
              "    <tr>\n",
              "      <th>0</th>\n",
              "      <td>128037</td>\n",
              "      <td>MCOU</td>\n",
              "      <td>MA</td>\n",
              "      <td>37205</td>\n",
              "      <td>137</td>\n",
              "      <td>5</td>\n",
              "      <td>2010</td>\n",
              "      <td>4</td>\n",
              "      <td>ARTIFICIAL</td>\n",
              "      <td>15.0</td>\n",
              "      <td>False</td>\n",
              "      <td>1</td>\n",
              "      <td>4.08</td>\n",
              "      <td>4.08</td>\n",
              "      <td>0.0</td>\n",
              "      <td>10/1</td>\n",
              "      <td>10/01/2010</td>\n",
              "      <td>31.1801</td>\n",
              "      <td>-91.8749</td>\n",
              "      <td>(31.1801, -91.8749)</td>\n",
              "      <td>37205013705</td>\n",
              "      <td>2010-10-01</td>\n",
              "      <td>2010-01-01</td>\n",
              "    </tr>\n",
              "    <tr>\n",
              "      <th>1</th>\n",
              "      <td>491755</td>\n",
              "      <td>FFSU</td>\n",
              "      <td>FL</td>\n",
              "      <td>62756</td>\n",
              "      <td>763</td>\n",
              "      <td>88</td>\n",
              "      <td>2010</td>\n",
              "      <td>1</td>\n",
              "      <td>TORSEMIDE</td>\n",
              "      <td>255.0</td>\n",
              "      <td>False</td>\n",
              "      <td>8</td>\n",
              "      <td>103.33</td>\n",
              "      <td>103.33</td>\n",
              "      <td>0.0</td>\n",
              "      <td>1/1</td>\n",
              "      <td>01/01/2010</td>\n",
              "      <td>39.3498</td>\n",
              "      <td>-75.5148</td>\n",
              "      <td>(39.3498, -75.5148)</td>\n",
              "      <td>62756076388</td>\n",
              "      <td>2010-10-01</td>\n",
              "      <td>2010-01-01</td>\n",
              "    </tr>\n",
              "    <tr>\n",
              "      <th>2</th>\n",
              "      <td>2568076</td>\n",
              "      <td>FFSU</td>\n",
              "      <td>UT</td>\n",
              "      <td>46987</td>\n",
              "      <td>323</td>\n",
              "      <td>11</td>\n",
              "      <td>2010</td>\n",
              "      <td>2</td>\n",
              "      <td>Kadian Ora</td>\n",
              "      <td>120.0</td>\n",
              "      <td>False</td>\n",
              "      <td>2</td>\n",
              "      <td>905.24</td>\n",
              "      <td>905.24</td>\n",
              "      <td>0.0</td>\n",
              "      <td>4/1</td>\n",
              "      <td>04/01/2010</td>\n",
              "      <td>44.2853</td>\n",
              "      <td>-99.4632</td>\n",
              "      <td>(44.2853, -99.4632)</td>\n",
              "      <td>46987032311</td>\n",
              "      <td>2010-10-01</td>\n",
              "      <td>2010-01-01</td>\n",
              "    </tr>\n",
              "  </tbody>\n",
              "</table>\n",
              "</div>"
            ],
            "text/plain": [
              "   Unnamed: 0 Utilization Type State  ...          NDC   End_Date  Start_Date\n",
              "0      128037             MCOU    MA  ...  37205013705 2010-10-01  2010-01-01\n",
              "1      491755             FFSU    FL  ...  62756076388 2010-10-01  2010-01-01\n",
              "2     2568076             FFSU    UT  ...  46987032311 2010-10-01  2010-01-01\n",
              "\n",
              "[3 rows x 23 columns]"
            ]
          },
          "metadata": {
            "tags": []
          },
          "execution_count": 80
        }
      ]
    },
    {
      "cell_type": "code",
      "metadata": {
        "id": "9hOmYfVEhQg6",
        "colab_type": "code",
        "outputId": "5cf81938-6907-4b2f-d908-009c68860378",
        "colab": {
          "base_uri": "https://localhost:8080/",
          "height": 264
        }
      },
      "source": [
        "# Insert the End Date\n",
        "df['End_Date'] = pd.Timestamp('2010-10-01')\n",
        "df.head(3)"
      ],
      "execution_count": 0,
      "outputs": [
        {
          "output_type": "execute_result",
          "data": {
            "text/html": [
              "<div>\n",
              "<style scoped>\n",
              "    .dataframe tbody tr th:only-of-type {\n",
              "        vertical-align: middle;\n",
              "    }\n",
              "\n",
              "    .dataframe tbody tr th {\n",
              "        vertical-align: top;\n",
              "    }\n",
              "\n",
              "    .dataframe thead th {\n",
              "        text-align: right;\n",
              "    }\n",
              "</style>\n",
              "<table border=\"1\" class=\"dataframe\">\n",
              "  <thead>\n",
              "    <tr style=\"text-align: right;\">\n",
              "      <th></th>\n",
              "      <th>Unnamed: 0</th>\n",
              "      <th>Utilization Type</th>\n",
              "      <th>State</th>\n",
              "      <th>Labeler Code</th>\n",
              "      <th>Product Code</th>\n",
              "      <th>Package Size</th>\n",
              "      <th>Year</th>\n",
              "      <th>Quarter</th>\n",
              "      <th>Product Name</th>\n",
              "      <th>Units Reimbursed</th>\n",
              "      <th>Suppression Used</th>\n",
              "      <th>Number of Prescriptions</th>\n",
              "      <th>Total Amount Reimbursed</th>\n",
              "      <th>Medicaid Amount Reimbursed</th>\n",
              "      <th>Non Medicaid Amount Reimbursed</th>\n",
              "      <th>Quarter Begin</th>\n",
              "      <th>Quarter Begin Date</th>\n",
              "      <th>Latitude</th>\n",
              "      <th>Longitude</th>\n",
              "      <th>Location</th>\n",
              "      <th>NDC</th>\n",
              "      <th>End_Date</th>\n",
              "      <th>Start_Date</th>\n",
              "    </tr>\n",
              "  </thead>\n",
              "  <tbody>\n",
              "    <tr>\n",
              "      <th>0</th>\n",
              "      <td>128037</td>\n",
              "      <td>MCOU</td>\n",
              "      <td>MA</td>\n",
              "      <td>37205</td>\n",
              "      <td>137</td>\n",
              "      <td>5</td>\n",
              "      <td>2010</td>\n",
              "      <td>4</td>\n",
              "      <td>ARTIFICIAL</td>\n",
              "      <td>15.0</td>\n",
              "      <td>False</td>\n",
              "      <td>1</td>\n",
              "      <td>4.08</td>\n",
              "      <td>4.08</td>\n",
              "      <td>0.0</td>\n",
              "      <td>10/1</td>\n",
              "      <td>10/01/2010</td>\n",
              "      <td>31.1801</td>\n",
              "      <td>-91.8749</td>\n",
              "      <td>(31.1801, -91.8749)</td>\n",
              "      <td>37205013705</td>\n",
              "      <td>2010-10-01</td>\n",
              "      <td>2010-01-01</td>\n",
              "    </tr>\n",
              "    <tr>\n",
              "      <th>1</th>\n",
              "      <td>491755</td>\n",
              "      <td>FFSU</td>\n",
              "      <td>FL</td>\n",
              "      <td>62756</td>\n",
              "      <td>763</td>\n",
              "      <td>88</td>\n",
              "      <td>2010</td>\n",
              "      <td>1</td>\n",
              "      <td>TORSEMIDE</td>\n",
              "      <td>255.0</td>\n",
              "      <td>False</td>\n",
              "      <td>8</td>\n",
              "      <td>103.33</td>\n",
              "      <td>103.33</td>\n",
              "      <td>0.0</td>\n",
              "      <td>1/1</td>\n",
              "      <td>01/01/2010</td>\n",
              "      <td>39.3498</td>\n",
              "      <td>-75.5148</td>\n",
              "      <td>(39.3498, -75.5148)</td>\n",
              "      <td>62756076388</td>\n",
              "      <td>2010-10-01</td>\n",
              "      <td>2010-01-01</td>\n",
              "    </tr>\n",
              "    <tr>\n",
              "      <th>2</th>\n",
              "      <td>2568076</td>\n",
              "      <td>FFSU</td>\n",
              "      <td>UT</td>\n",
              "      <td>46987</td>\n",
              "      <td>323</td>\n",
              "      <td>11</td>\n",
              "      <td>2010</td>\n",
              "      <td>2</td>\n",
              "      <td>Kadian Ora</td>\n",
              "      <td>120.0</td>\n",
              "      <td>False</td>\n",
              "      <td>2</td>\n",
              "      <td>905.24</td>\n",
              "      <td>905.24</td>\n",
              "      <td>0.0</td>\n",
              "      <td>4/1</td>\n",
              "      <td>04/01/2010</td>\n",
              "      <td>44.2853</td>\n",
              "      <td>-99.4632</td>\n",
              "      <td>(44.2853, -99.4632)</td>\n",
              "      <td>46987032311</td>\n",
              "      <td>2010-10-01</td>\n",
              "      <td>2010-01-01</td>\n",
              "    </tr>\n",
              "  </tbody>\n",
              "</table>\n",
              "</div>"
            ],
            "text/plain": [
              "   Unnamed: 0 Utilization Type State  ...          NDC   End_Date  Start_Date\n",
              "0      128037             MCOU    MA  ...  37205013705 2010-10-01  2010-01-01\n",
              "1      491755             FFSU    FL  ...  62756076388 2010-10-01  2010-01-01\n",
              "2     2568076             FFSU    UT  ...  46987032311 2010-10-01  2010-01-01\n",
              "\n",
              "[3 rows x 23 columns]"
            ]
          },
          "metadata": {
            "tags": []
          },
          "execution_count": 81
        }
      ]
    },
    {
      "cell_type": "markdown",
      "metadata": {
        "id": "7PuaCtqBm2lt",
        "colab_type": "text"
      },
      "source": [
        "Item 2 - Subtract the dates on the Columns from the Maximun date."
      ]
    },
    {
      "cell_type": "markdown",
      "metadata": {
        "id": "OX3o3S_znCxP",
        "colab_type": "text"
      },
      "source": [
        "Item 3 - Convert the output of the subtraction to months rather than days."
      ]
    },
    {
      "cell_type": "code",
      "metadata": {
        "id": "QzmIoOJ1jq3W",
        "colab_type": "code",
        "outputId": "8a4fb75c-0944-4d14-c92d-929ff01e2251",
        "colab": {
          "base_uri": "https://localhost:8080/",
          "height": 255
        }
      },
      "source": [
        "# Now let's take the difference in months between those dates\n",
        "df['Diff_Months'] = df['End_Date'] - df['Start_Date']\n",
        "df['Diff_Months'] = df['Diff_Months']/np.timedelta64(1, 'M')\n",
        "print(df)"
      ],
      "execution_count": 0,
      "outputs": [
        {
          "output_type": "stream",
          "text": [
            "        Unnamed: 0 Utilization Type State  ...   End_Date  Start_Date  Diff_Months\n",
            "0           128037             MCOU    MA  ... 2010-10-01  2010-01-01     8.969383\n",
            "1           491755             FFSU    FL  ... 2010-10-01  2010-01-01     8.969383\n",
            "2          2568076             FFSU    UT  ... 2010-10-01  2010-01-01     8.969383\n",
            "3           491263             FFSU    MN  ... 2010-10-01  2010-01-01     8.969383\n",
            "4           836489             FFSU    XX  ... 2010-10-01  2010-01-01     8.969383\n",
            "...            ...              ...   ...  ...        ...         ...          ...\n",
            "156215     2752214             MCOU    XX  ... 2010-10-01  2010-01-01     8.969383\n",
            "156216     2519195             MCOU    MI  ... 2010-10-01  2010-01-01     8.969383\n",
            "156217      815768             MCOU    MD  ... 2010-10-01  2010-01-01     8.969383\n",
            "156218     2029158             FFSU    DE  ... 2010-10-01  2010-01-01     8.969383\n",
            "156219     2799238             FFSU    DE  ... 2010-10-01  2010-01-01     8.969383\n",
            "\n",
            "[156220 rows x 24 columns]\n"
          ],
          "name": "stdout"
        }
      ]
    },
    {
      "cell_type": "code",
      "metadata": {
        "id": "cCTo9eG2lYOK",
        "colab_type": "code",
        "outputId": "fe9ed9fb-c3c9-4212-b8de-ca4d211e22eb",
        "colab": {
          "base_uri": "https://localhost:8080/",
          "height": 264
        }
      },
      "source": [
        "df.head(3)"
      ],
      "execution_count": 0,
      "outputs": [
        {
          "output_type": "execute_result",
          "data": {
            "text/html": [
              "<div>\n",
              "<style scoped>\n",
              "    .dataframe tbody tr th:only-of-type {\n",
              "        vertical-align: middle;\n",
              "    }\n",
              "\n",
              "    .dataframe tbody tr th {\n",
              "        vertical-align: top;\n",
              "    }\n",
              "\n",
              "    .dataframe thead th {\n",
              "        text-align: right;\n",
              "    }\n",
              "</style>\n",
              "<table border=\"1\" class=\"dataframe\">\n",
              "  <thead>\n",
              "    <tr style=\"text-align: right;\">\n",
              "      <th></th>\n",
              "      <th>Unnamed: 0</th>\n",
              "      <th>Utilization Type</th>\n",
              "      <th>State</th>\n",
              "      <th>Labeler Code</th>\n",
              "      <th>Product Code</th>\n",
              "      <th>Package Size</th>\n",
              "      <th>Year</th>\n",
              "      <th>Quarter</th>\n",
              "      <th>Product Name</th>\n",
              "      <th>Units Reimbursed</th>\n",
              "      <th>Suppression Used</th>\n",
              "      <th>Number of Prescriptions</th>\n",
              "      <th>Total Amount Reimbursed</th>\n",
              "      <th>Medicaid Amount Reimbursed</th>\n",
              "      <th>Non Medicaid Amount Reimbursed</th>\n",
              "      <th>Quarter Begin</th>\n",
              "      <th>Quarter Begin Date</th>\n",
              "      <th>Latitude</th>\n",
              "      <th>Longitude</th>\n",
              "      <th>Location</th>\n",
              "      <th>NDC</th>\n",
              "      <th>End_Date</th>\n",
              "      <th>Start_Date</th>\n",
              "      <th>Diff_Months</th>\n",
              "    </tr>\n",
              "  </thead>\n",
              "  <tbody>\n",
              "    <tr>\n",
              "      <th>0</th>\n",
              "      <td>128037</td>\n",
              "      <td>MCOU</td>\n",
              "      <td>MA</td>\n",
              "      <td>37205</td>\n",
              "      <td>137</td>\n",
              "      <td>5</td>\n",
              "      <td>2010</td>\n",
              "      <td>4</td>\n",
              "      <td>ARTIFICIAL</td>\n",
              "      <td>15.0</td>\n",
              "      <td>False</td>\n",
              "      <td>1</td>\n",
              "      <td>4.08</td>\n",
              "      <td>4.08</td>\n",
              "      <td>0.0</td>\n",
              "      <td>10/1</td>\n",
              "      <td>10/01/2010</td>\n",
              "      <td>31.1801</td>\n",
              "      <td>-91.8749</td>\n",
              "      <td>(31.1801, -91.8749)</td>\n",
              "      <td>37205013705</td>\n",
              "      <td>2010-10-01</td>\n",
              "      <td>2010-01-01</td>\n",
              "      <td>8.969383</td>\n",
              "    </tr>\n",
              "    <tr>\n",
              "      <th>1</th>\n",
              "      <td>491755</td>\n",
              "      <td>FFSU</td>\n",
              "      <td>FL</td>\n",
              "      <td>62756</td>\n",
              "      <td>763</td>\n",
              "      <td>88</td>\n",
              "      <td>2010</td>\n",
              "      <td>1</td>\n",
              "      <td>TORSEMIDE</td>\n",
              "      <td>255.0</td>\n",
              "      <td>False</td>\n",
              "      <td>8</td>\n",
              "      <td>103.33</td>\n",
              "      <td>103.33</td>\n",
              "      <td>0.0</td>\n",
              "      <td>1/1</td>\n",
              "      <td>01/01/2010</td>\n",
              "      <td>39.3498</td>\n",
              "      <td>-75.5148</td>\n",
              "      <td>(39.3498, -75.5148)</td>\n",
              "      <td>62756076388</td>\n",
              "      <td>2010-10-01</td>\n",
              "      <td>2010-01-01</td>\n",
              "      <td>8.969383</td>\n",
              "    </tr>\n",
              "    <tr>\n",
              "      <th>2</th>\n",
              "      <td>2568076</td>\n",
              "      <td>FFSU</td>\n",
              "      <td>UT</td>\n",
              "      <td>46987</td>\n",
              "      <td>323</td>\n",
              "      <td>11</td>\n",
              "      <td>2010</td>\n",
              "      <td>2</td>\n",
              "      <td>Kadian Ora</td>\n",
              "      <td>120.0</td>\n",
              "      <td>False</td>\n",
              "      <td>2</td>\n",
              "      <td>905.24</td>\n",
              "      <td>905.24</td>\n",
              "      <td>0.0</td>\n",
              "      <td>4/1</td>\n",
              "      <td>04/01/2010</td>\n",
              "      <td>44.2853</td>\n",
              "      <td>-99.4632</td>\n",
              "      <td>(44.2853, -99.4632)</td>\n",
              "      <td>46987032311</td>\n",
              "      <td>2010-10-01</td>\n",
              "      <td>2010-01-01</td>\n",
              "      <td>8.969383</td>\n",
              "    </tr>\n",
              "  </tbody>\n",
              "</table>\n",
              "</div>"
            ],
            "text/plain": [
              "   Unnamed: 0 Utilization Type State  ...   End_Date  Start_Date  Diff_Months\n",
              "0      128037             MCOU    MA  ... 2010-10-01  2010-01-01     8.969383\n",
              "1      491755             FFSU    FL  ... 2010-10-01  2010-01-01     8.969383\n",
              "2     2568076             FFSU    UT  ... 2010-10-01  2010-01-01     8.969383\n",
              "\n",
              "[3 rows x 24 columns]"
            ]
          },
          "metadata": {
            "tags": []
          },
          "execution_count": 86
        }
      ]
    },
    {
      "cell_type": "markdown",
      "metadata": {
        "id": "SnQ3N3cAleeG",
        "colab_type": "text"
      },
      "source": [
        "Item 4 - Save the result of the Date Subteraction into a new Column. This was accomplished above syntax with the new Column Heading of \"Diff_Months\". The value is the same throughout the dataframe when subtracting the End_Date from the Start_Date. The resulting value is: 8.969383 months (Approx. 9 Months)"
      ]
    },
    {
      "cell_type": "markdown",
      "metadata": {
        "id": "V7EaWwgNntkP",
        "colab_type": "text"
      },
      "source": [
        "Item 5 - Save the dataset as a \"csv\" file."
      ]
    },
    {
      "cell_type": "code",
      "metadata": {
        "id": "RX--3Tzqn6cw",
        "colab_type": "code",
        "colab": {}
      },
      "source": [
        "df.to_csv('df_clean.csv', index=False)"
      ],
      "execution_count": 0,
      "outputs": []
    },
    {
      "cell_type": "markdown",
      "metadata": {
        "id": "WXV-JVnWoGjw",
        "colab_type": "text"
      },
      "source": [
        "Item 6 - Export Colab BRADLEY_DATA+612_WK2_ASSIGNMENT to GitHub"
      ]
    }
  ]
}