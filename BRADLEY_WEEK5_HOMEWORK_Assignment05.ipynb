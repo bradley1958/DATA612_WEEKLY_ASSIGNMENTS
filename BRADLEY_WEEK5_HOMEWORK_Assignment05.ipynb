{
  "nbformat": 4,
  "nbformat_minor": 0,
  "metadata": {
    "colab": {
      "name": "BRADLEY_WEEK5_HOMEWORK_Assignment05.ipynb",
      "provenance": [],
      "collapsed_sections": []
    },
    "kernelspec": {
      "name": "python3",
      "display_name": "Python 3"
    }
  },
  "cells": [
    {
      "cell_type": "markdown",
      "metadata": {
        "id": "PVPwSURJLrm5",
        "colab_type": "text"
      },
      "source": [
        "# Assignment for Week 5      \n",
        "(Chapter 6 & 7)"
      ]
    },
    {
      "cell_type": "markdown",
      "metadata": {
        "colab_type": "text",
        "id": "oxOFlqNrMDvt"
      },
      "source": [
        "## Purpose:\n",
        "This assignment is intended to help you do the following:       \n",
        "1.\tDifferentiate between categorical and non-categorical variables\n",
        "2.\tConvert variables from one type to another\n",
        "3.\tFamiliarize with strings\n"
      ]
    },
    {
      "cell_type": "markdown",
      "metadata": {
        "id": "rzBeh3W4MEzh",
        "colab_type": "text"
      },
      "source": [
        "## Action Items:      \n",
        "•\tConvert data\n",
        "1. Work on your selected data set and covert a column of non-categorical type into a categorical type. \n",
        "2. Convert another column into a string type. \n",
        "3. Post your work on GitHub\n",
        "4. Add a README file\n"
      ]
    },
    {
      "cell_type": "code",
      "metadata": {
        "id": "TimHXX6aBVaQ",
        "colab_type": "code",
        "outputId": "49ab2f3d-d525-4675-b89e-422c6bc069ea",
        "colab": {
          "base_uri": "https://localhost:8080/",
          "height": 343
        }
      },
      "source": [
        "# Let's load the dataset and verify the top five rows\n",
        "import pandas as pd\n",
        "df = pd.read_csv('https://raw.githubusercontent.com/frankData612/data_612/master/State_Drug_Utilization_Data_2010/State_Drug_Utilization_Data_2010.csv')\n",
        "df.head()"
      ],
      "execution_count": 0,
      "outputs": [
        {
          "output_type": "execute_result",
          "data": {
            "text/html": [
              "<div>\n",
              "<style scoped>\n",
              "    .dataframe tbody tr th:only-of-type {\n",
              "        vertical-align: middle;\n",
              "    }\n",
              "\n",
              "    .dataframe tbody tr th {\n",
              "        vertical-align: top;\n",
              "    }\n",
              "\n",
              "    .dataframe thead th {\n",
              "        text-align: right;\n",
              "    }\n",
              "</style>\n",
              "<table border=\"1\" class=\"dataframe\">\n",
              "  <thead>\n",
              "    <tr style=\"text-align: right;\">\n",
              "      <th></th>\n",
              "      <th>Unnamed: 0</th>\n",
              "      <th>Utilization Type</th>\n",
              "      <th>State</th>\n",
              "      <th>Labeler Code</th>\n",
              "      <th>Product Code</th>\n",
              "      <th>Package Size</th>\n",
              "      <th>Year</th>\n",
              "      <th>Quarter</th>\n",
              "      <th>Product Name</th>\n",
              "      <th>Units Reimbursed</th>\n",
              "      <th>Suppression Used</th>\n",
              "      <th>Number of Prescriptions</th>\n",
              "      <th>Total Amount Reimbursed</th>\n",
              "      <th>Medicaid Amount Reimbursed</th>\n",
              "      <th>Non Medicaid Amount Reimbursed</th>\n",
              "      <th>Quarter Begin</th>\n",
              "      <th>Quarter Begin Date</th>\n",
              "      <th>Latitude</th>\n",
              "      <th>Longitude</th>\n",
              "      <th>Location</th>\n",
              "      <th>NDC</th>\n",
              "    </tr>\n",
              "  </thead>\n",
              "  <tbody>\n",
              "    <tr>\n",
              "      <th>0</th>\n",
              "      <td>128037</td>\n",
              "      <td>MCOU</td>\n",
              "      <td>MA</td>\n",
              "      <td>37205</td>\n",
              "      <td>137</td>\n",
              "      <td>5</td>\n",
              "      <td>2010</td>\n",
              "      <td>4</td>\n",
              "      <td>ARTIFICIAL</td>\n",
              "      <td>15.000</td>\n",
              "      <td>False</td>\n",
              "      <td>1</td>\n",
              "      <td>4.08</td>\n",
              "      <td>4.08</td>\n",
              "      <td>0.0</td>\n",
              "      <td>10/1</td>\n",
              "      <td>10/01/2010</td>\n",
              "      <td>31.1801</td>\n",
              "      <td>-91.8749</td>\n",
              "      <td>(31.1801, -91.8749)</td>\n",
              "      <td>37205013705</td>\n",
              "    </tr>\n",
              "    <tr>\n",
              "      <th>1</th>\n",
              "      <td>491755</td>\n",
              "      <td>FFSU</td>\n",
              "      <td>FL</td>\n",
              "      <td>62756</td>\n",
              "      <td>763</td>\n",
              "      <td>88</td>\n",
              "      <td>2010</td>\n",
              "      <td>1</td>\n",
              "      <td>TORSEMIDE</td>\n",
              "      <td>255.000</td>\n",
              "      <td>False</td>\n",
              "      <td>8</td>\n",
              "      <td>103.33</td>\n",
              "      <td>103.33</td>\n",
              "      <td>0.0</td>\n",
              "      <td>1/1</td>\n",
              "      <td>01/01/2010</td>\n",
              "      <td>39.3498</td>\n",
              "      <td>-75.5148</td>\n",
              "      <td>(39.3498, -75.5148)</td>\n",
              "      <td>62756076388</td>\n",
              "    </tr>\n",
              "    <tr>\n",
              "      <th>2</th>\n",
              "      <td>2568076</td>\n",
              "      <td>FFSU</td>\n",
              "      <td>UT</td>\n",
              "      <td>46987</td>\n",
              "      <td>323</td>\n",
              "      <td>11</td>\n",
              "      <td>2010</td>\n",
              "      <td>2</td>\n",
              "      <td>Kadian Ora</td>\n",
              "      <td>120.000</td>\n",
              "      <td>False</td>\n",
              "      <td>2</td>\n",
              "      <td>905.24</td>\n",
              "      <td>905.24</td>\n",
              "      <td>0.0</td>\n",
              "      <td>4/1</td>\n",
              "      <td>04/01/2010</td>\n",
              "      <td>44.2853</td>\n",
              "      <td>-99.4632</td>\n",
              "      <td>(44.2853, -99.4632)</td>\n",
              "      <td>46987032311</td>\n",
              "    </tr>\n",
              "    <tr>\n",
              "      <th>3</th>\n",
              "      <td>491263</td>\n",
              "      <td>FFSU</td>\n",
              "      <td>MN</td>\n",
              "      <td>781</td>\n",
              "      <td>5185</td>\n",
              "      <td>1</td>\n",
              "      <td>2010</td>\n",
              "      <td>4</td>\n",
              "      <td>LEVOTHYROX</td>\n",
              "      <td>1114.000</td>\n",
              "      <td>False</td>\n",
              "      <td>34</td>\n",
              "      <td>312.22</td>\n",
              "      <td>306.22</td>\n",
              "      <td>6.0</td>\n",
              "      <td>10/1</td>\n",
              "      <td>10/01/2010</td>\n",
              "      <td>43.3504</td>\n",
              "      <td>-84.5603</td>\n",
              "      <td>(43.3504, -84.5603)</td>\n",
              "      <td>781518501</td>\n",
              "    </tr>\n",
              "    <tr>\n",
              "      <th>4</th>\n",
              "      <td>836489</td>\n",
              "      <td>FFSU</td>\n",
              "      <td>XX</td>\n",
              "      <td>51552</td>\n",
              "      <td>809</td>\n",
              "      <td>6</td>\n",
              "      <td>2010</td>\n",
              "      <td>2</td>\n",
              "      <td>COLD CREAM</td>\n",
              "      <td>226.089</td>\n",
              "      <td>False</td>\n",
              "      <td>7</td>\n",
              "      <td>52.87</td>\n",
              "      <td>52.87</td>\n",
              "      <td>0.0</td>\n",
              "      <td>4/1</td>\n",
              "      <td>04/01/2010</td>\n",
              "      <td>NaN</td>\n",
              "      <td>NaN</td>\n",
              "      <td>NaN</td>\n",
              "      <td>51552080906</td>\n",
              "    </tr>\n",
              "  </tbody>\n",
              "</table>\n",
              "</div>"
            ],
            "text/plain": [
              "   Unnamed: 0 Utilization Type  ...             Location          NDC\n",
              "0      128037             MCOU  ...  (31.1801, -91.8749)  37205013705\n",
              "1      491755             FFSU  ...  (39.3498, -75.5148)  62756076388\n",
              "2     2568076             FFSU  ...  (44.2853, -99.4632)  46987032311\n",
              "3      491263             FFSU  ...  (43.3504, -84.5603)    781518501\n",
              "4      836489             FFSU  ...                  NaN  51552080906\n",
              "\n",
              "[5 rows x 21 columns]"
            ]
          },
          "metadata": {
            "tags": []
          },
          "execution_count": 7
        }
      ]
    },
    {
      "cell_type": "code",
      "metadata": {
        "id": "gILn9drrDlOh",
        "colab_type": "code",
        "outputId": "1a38afac-ea8f-478f-8fda-938e4771c983",
        "colab": {
          "base_uri": "https://localhost:8080/",
          "height": 493
        }
      },
      "source": [
        "# Let's see the type of date in the dataset\n",
        "df.info()\n"
      ],
      "execution_count": 0,
      "outputs": [
        {
          "output_type": "stream",
          "text": [
            "<class 'pandas.core.frame.DataFrame'>\n",
            "RangeIndex: 156220 entries, 0 to 156219\n",
            "Data columns (total 21 columns):\n",
            " #   Column                          Non-Null Count   Dtype  \n",
            "---  ------                          --------------   -----  \n",
            " 0   Unnamed: 0                      156220 non-null  int64  \n",
            " 1   Utilization Type                156220 non-null  object \n",
            " 2   State                           156220 non-null  object \n",
            " 3   Labeler Code                    156220 non-null  int64  \n",
            " 4   Product Code                    156220 non-null  int64  \n",
            " 5   Package Size                    156220 non-null  int64  \n",
            " 6   Year                            156220 non-null  int64  \n",
            " 7   Quarter                         156220 non-null  int64  \n",
            " 8   Product Name                    156166 non-null  object \n",
            " 9   Units Reimbursed                156220 non-null  float64\n",
            " 10  Suppression Used                156220 non-null  bool   \n",
            " 11  Number of Prescriptions         156220 non-null  int64  \n",
            " 12  Total Amount Reimbursed         156220 non-null  float64\n",
            " 13  Medicaid Amount Reimbursed      156220 non-null  float64\n",
            " 14  Non Medicaid Amount Reimbursed  156220 non-null  float64\n",
            " 15  Quarter Begin                   156220 non-null  object \n",
            " 16  Quarter Begin Date              156220 non-null  object \n",
            " 17  Latitude                        145416 non-null  float64\n",
            " 18  Longitude                       145416 non-null  float64\n",
            " 19  Location                        145416 non-null  object \n",
            " 20  NDC                             156220 non-null  int64  \n",
            "dtypes: bool(1), float64(6), int64(8), object(6)\n",
            "memory usage: 24.0+ MB\n"
          ],
          "name": "stdout"
        }
      ]
    },
    {
      "cell_type": "code",
      "metadata": {
        "id": "uQRrPjkgFDmb",
        "colab_type": "code",
        "outputId": "9fabdb8d-ccc4-42fe-fcf5-4baca00bad24",
        "colab": {
          "base_uri": "https://localhost:8080/",
          "height": 510
        }
      },
      "source": [
        "# Let's convert the Utilization Type (Listed as \"object\") into CATEGORICAL DATA type\n",
        "df['Utilization Type'] = df['Utilization Type'].astype('category')\n",
        "print(df.info())\n"
      ],
      "execution_count": 0,
      "outputs": [
        {
          "output_type": "stream",
          "text": [
            "<class 'pandas.core.frame.DataFrame'>\n",
            "RangeIndex: 156220 entries, 0 to 156219\n",
            "Data columns (total 21 columns):\n",
            " #   Column                          Non-Null Count   Dtype   \n",
            "---  ------                          --------------   -----   \n",
            " 0   Unnamed: 0                      156220 non-null  int64   \n",
            " 1   Utilization Type                156220 non-null  category\n",
            " 2   State                           156220 non-null  object  \n",
            " 3   Labeler Code                    156220 non-null  int64   \n",
            " 4   Product Code                    156220 non-null  int64   \n",
            " 5   Package Size                    156220 non-null  int64   \n",
            " 6   Year                            156220 non-null  int64   \n",
            " 7   Quarter                         156220 non-null  int64   \n",
            " 8   Product Name                    156166 non-null  object  \n",
            " 9   Units Reimbursed                156220 non-null  float64 \n",
            " 10  Suppression Used                156220 non-null  bool    \n",
            " 11  Number of Prescriptions         156220 non-null  int64   \n",
            " 12  Total Amount Reimbursed         156220 non-null  float64 \n",
            " 13  Medicaid Amount Reimbursed      156220 non-null  float64 \n",
            " 14  Non Medicaid Amount Reimbursed  156220 non-null  float64 \n",
            " 15  Quarter Begin                   156220 non-null  object  \n",
            " 16  Quarter Begin Date              156220 non-null  object  \n",
            " 17  Latitude                        145416 non-null  float64 \n",
            " 18  Longitude                       145416 non-null  float64 \n",
            " 19  Location                        145416 non-null  object  \n",
            " 20  NDC                             156220 non-null  int64   \n",
            "dtypes: bool(1), category(1), float64(6), int64(8), object(5)\n",
            "memory usage: 22.9+ MB\n",
            "None\n"
          ],
          "name": "stdout"
        }
      ]
    },
    {
      "cell_type": "markdown",
      "metadata": {
        "id": "AkefYyinF28F",
        "colab_type": "text"
      },
      "source": [
        "***ACTION ITEM 1 - Non-categorical to categorocal Dtype: *** \n",
        "As you can see from the \"df.info\" syntax the Utilization Type \"Dtype\" is now \"category\" from it's orginal print out of \"object\"."
      ]
    },
    {
      "cell_type": "code",
      "metadata": {
        "id": "Ah8KFrelG3ko",
        "colab_type": "code",
        "outputId": "cb170517-e883-47aa-c9a6-0b44e49c426c",
        "colab": {
          "base_uri": "https://localhost:8080/",
          "height": 510
        }
      },
      "source": [
        "# Now let's change that Column back to it's original Dtype of \"object\"\n",
        "df['Utilization Type'] = df['Utilization Type'].astype('object')\n",
        "print(df.info())"
      ],
      "execution_count": 0,
      "outputs": [
        {
          "output_type": "stream",
          "text": [
            "<class 'pandas.core.frame.DataFrame'>\n",
            "RangeIndex: 156220 entries, 0 to 156219\n",
            "Data columns (total 21 columns):\n",
            " #   Column                          Non-Null Count   Dtype  \n",
            "---  ------                          --------------   -----  \n",
            " 0   Unnamed: 0                      156220 non-null  int64  \n",
            " 1   Utilization Type                156220 non-null  object \n",
            " 2   State                           156220 non-null  object \n",
            " 3   Labeler Code                    156220 non-null  int64  \n",
            " 4   Product Code                    156220 non-null  int64  \n",
            " 5   Package Size                    156220 non-null  int64  \n",
            " 6   Year                            156220 non-null  int64  \n",
            " 7   Quarter                         156220 non-null  int64  \n",
            " 8   Product Name                    156166 non-null  object \n",
            " 9   Units Reimbursed                156220 non-null  float64\n",
            " 10  Suppression Used                156220 non-null  bool   \n",
            " 11  Number of Prescriptions         156220 non-null  int64  \n",
            " 12  Total Amount Reimbursed         156220 non-null  float64\n",
            " 13  Medicaid Amount Reimbursed      156220 non-null  float64\n",
            " 14  Non Medicaid Amount Reimbursed  156220 non-null  float64\n",
            " 15  Quarter Begin                   156220 non-null  object \n",
            " 16  Quarter Begin Date              156220 non-null  object \n",
            " 17  Latitude                        145416 non-null  float64\n",
            " 18  Longitude                       145416 non-null  float64\n",
            " 19  Location                        145416 non-null  object \n",
            " 20  NDC                             156220 non-null  int64  \n",
            "dtypes: bool(1), float64(6), int64(8), object(6)\n",
            "memory usage: 24.0+ MB\n",
            "None\n"
          ],
          "name": "stdout"
        }
      ]
    },
    {
      "cell_type": "markdown",
      "metadata": {
        "id": "JLoT3FB1HPO4",
        "colab_type": "text"
      },
      "source": [
        "So, from the syntax above the Utilization Type has been changed back to it;s original Dtype - \"object\"."
      ]
    },
    {
      "cell_type": "code",
      "metadata": {
        "id": "fzzEKExfHbAU",
        "colab_type": "code",
        "outputId": "6a4d7d59-81f3-49c3-af78-74277f879d91",
        "colab": {
          "base_uri": "https://localhost:8080/",
          "height": 510
        }
      },
      "source": [
        "# Next, let's converter a different Column Dtype to a String\n",
        "df['Suppression Used'] = df['Suppression Used'].astype('str')\n",
        "print(df.info())"
      ],
      "execution_count": 0,
      "outputs": [
        {
          "output_type": "stream",
          "text": [
            "<class 'pandas.core.frame.DataFrame'>\n",
            "RangeIndex: 156220 entries, 0 to 156219\n",
            "Data columns (total 21 columns):\n",
            " #   Column                          Non-Null Count   Dtype  \n",
            "---  ------                          --------------   -----  \n",
            " 0   Unnamed: 0                      156220 non-null  int64  \n",
            " 1   Utilization Type                156220 non-null  object \n",
            " 2   State                           156220 non-null  object \n",
            " 3   Labeler Code                    156220 non-null  int64  \n",
            " 4   Product Code                    156220 non-null  int64  \n",
            " 5   Package Size                    156220 non-null  int64  \n",
            " 6   Year                            156220 non-null  int64  \n",
            " 7   Quarter                         156220 non-null  int64  \n",
            " 8   Product Name                    156166 non-null  object \n",
            " 9   Units Reimbursed                156220 non-null  float64\n",
            " 10  Suppression Used                156220 non-null  object \n",
            " 11  Number of Prescriptions         156220 non-null  int64  \n",
            " 12  Total Amount Reimbursed         156220 non-null  float64\n",
            " 13  Medicaid Amount Reimbursed      156220 non-null  float64\n",
            " 14  Non Medicaid Amount Reimbursed  156220 non-null  float64\n",
            " 15  Quarter Begin                   156220 non-null  object \n",
            " 16  Quarter Begin Date              156220 non-null  object \n",
            " 17  Latitude                        145416 non-null  float64\n",
            " 18  Longitude                       145416 non-null  float64\n",
            " 19  Location                        145416 non-null  object \n",
            " 20  NDC                             156220 non-null  int64  \n",
            "dtypes: float64(6), int64(8), object(7)\n",
            "memory usage: 25.0+ MB\n",
            "None\n"
          ],
          "name": "stdout"
        }
      ]
    },
    {
      "cell_type": "markdown",
      "metadata": {
        "id": "fOweM3pNH57W",
        "colab_type": "text"
      },
      "source": [
        "**ACTION ITEM 2 - Convert another Column into a String.** As you acn see from the syntax above the Column \"Suppression Used\" was changed from Dtype \"bool\" to Dtype \"object\"."
      ]
    },
    {
      "cell_type": "code",
      "metadata": {
        "id": "K0TLvGs0IcSl",
        "colab_type": "code",
        "outputId": "88d8ea3d-e9c4-4286-9811-e5d5081335f0",
        "colab": {
          "base_uri": "https://localhost:8080/",
          "height": 510
        }
      },
      "source": [
        "# Again, let's change it back to it's orginal Dtype of \"bool\"\n",
        "df['Suppression Used'] = df['Suppression Used'].astype('bool')\n",
        "print(df.info())"
      ],
      "execution_count": 0,
      "outputs": [
        {
          "output_type": "stream",
          "text": [
            "<class 'pandas.core.frame.DataFrame'>\n",
            "RangeIndex: 156220 entries, 0 to 156219\n",
            "Data columns (total 21 columns):\n",
            " #   Column                          Non-Null Count   Dtype  \n",
            "---  ------                          --------------   -----  \n",
            " 0   Unnamed: 0                      156220 non-null  int64  \n",
            " 1   Utilization Type                156220 non-null  object \n",
            " 2   State                           156220 non-null  object \n",
            " 3   Labeler Code                    156220 non-null  int64  \n",
            " 4   Product Code                    156220 non-null  int64  \n",
            " 5   Package Size                    156220 non-null  int64  \n",
            " 6   Year                            156220 non-null  int64  \n",
            " 7   Quarter                         156220 non-null  int64  \n",
            " 8   Product Name                    156166 non-null  object \n",
            " 9   Units Reimbursed                156220 non-null  float64\n",
            " 10  Suppression Used                156220 non-null  bool   \n",
            " 11  Number of Prescriptions         156220 non-null  int64  \n",
            " 12  Total Amount Reimbursed         156220 non-null  float64\n",
            " 13  Medicaid Amount Reimbursed      156220 non-null  float64\n",
            " 14  Non Medicaid Amount Reimbursed  156220 non-null  float64\n",
            " 15  Quarter Begin                   156220 non-null  object \n",
            " 16  Quarter Begin Date              156220 non-null  object \n",
            " 17  Latitude                        145416 non-null  float64\n",
            " 18  Longitude                       145416 non-null  float64\n",
            " 19  Location                        145416 non-null  object \n",
            " 20  NDC                             156220 non-null  int64  \n",
            "dtypes: bool(1), float64(6), int64(8), object(6)\n",
            "memory usage: 24.0+ MB\n",
            "None\n"
          ],
          "name": "stdout"
        }
      ]
    },
    {
      "cell_type": "markdown",
      "metadata": {
        "id": "diLwRMufIu1N",
        "colab_type": "text"
      },
      "source": [
        "And once again the Dtype for \"Suppression Used\" has been changed back to it's original form (\"bool\") from being converted to \"object\". "
      ]
    },
    {
      "cell_type": "markdown",
      "metadata": {
        "id": "0RM9gEiAJWvO",
        "colab_type": "text"
      },
      "source": [
        "**SUMMARY:**\n",
        "\n",
        "We have used the \".astype\" syntax in Pandas to convert various columns from one Dtype to another. In this case from a non-categorical Dtype to a categorical Dtype (Action Item 1).\n",
        "\n",
        "Next we used the \".astype\" syntax to convert a different Column Dtype to a String (Action Item 2). In my example I converted a Dtype of \"bool\" to Dtype \"object, and then converted it back to it's original Dtype of \"bool\" using the \".astype\" syntax.\n",
        "\n",
        "From our lecture notes we have seen that Dtypes govern which operations can and cannot be performed on a given column. The ability to convert a Column type gives the analyst another tool so that the dataset can be prepared and cleaned for further data modeling/exploration and algorithm use. "
      ]
    }
  ]
}